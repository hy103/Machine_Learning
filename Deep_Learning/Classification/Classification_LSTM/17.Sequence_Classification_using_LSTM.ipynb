{
 "cells": [
  {
   "cell_type": "code",
   "execution_count": 1,
   "metadata": {},
   "outputs": [],
   "source": [
    "import pandas as pd"
   ]
  },
  {
   "cell_type": "code",
   "execution_count": 2,
   "metadata": {},
   "outputs": [],
   "source": [
    "import torch \n",
    "import torch.nn as nn\n",
    "import torch.optim as optim \n",
    "import numpy as np"
   ]
  },
  {
   "cell_type": "code",
   "execution_count": 5,
   "metadata": {},
   "outputs": [],
   "source": [
    "#Sequence generation\n",
    "\n",
    "X_train = np.random.rand(100, 10, 50)\n",
    "y_train = np.random.randint(2, size= (100,))"
   ]
  },
  {
   "cell_type": "code",
   "execution_count": 14,
   "metadata": {},
   "outputs": [],
   "source": [
    "X_train_tensor = torch.tensor(X_train, dtype=torch.float32)\n",
    "y_train_tensor = torch.tensor(y_train, dtype=torch.long)"
   ]
  },
  {
   "cell_type": "code",
   "execution_count": 31,
   "metadata": {},
   "outputs": [],
   "source": [
    "input_size = X_train_tensor.shape[2]\n",
    "hidden_size = 64\n",
    "num_layers = 2\n",
    "output_size = 2\n"
   ]
  },
  {
   "cell_type": "code",
   "execution_count": 33,
   "metadata": {},
   "outputs": [],
   "source": [
    "class LSTM_classifier(nn.Module):\n",
    "    def __init__(self, input_size, hidden_size, num_layers, output_size):\n",
    "        super(LSTM_classifier, self).__init__()\n",
    "\n",
    "        self.hidden_size = hidden_size\n",
    "        self.num_layers = num_layers\n",
    "\n",
    "        self.lstm_layer = nn.LSTM(input_size, hidden_size, num_layers, batch_first=True)\n",
    "        self.fully_connected_layer = nn.Linear(hidden_size, output_size)\n",
    "\n",
    "    def forward(self, x):\n",
    "\n",
    "        #Define hidden states and cell state\n",
    "\n",
    "        h0 = torch.zeros(self.num_layers, x.size(0), self.hidden_size).to(x.device)\n",
    "        c0 = torch.zeros(self.num_layers, x.size(0), self.hidden_size).to(x.device)\n",
    "        out, _ = self.lstm_layer(x, (h0, c0))\n",
    "        out = self.fully_connected_layer(out[:,-1,:])\n",
    "        return out"
   ]
  },
  {
   "cell_type": "code",
   "execution_count": 34,
   "metadata": {},
   "outputs": [],
   "source": [
    "model = LSTM_classifier(input_size, hidden_size, num_layers, output_size)"
   ]
  },
  {
   "cell_type": "code",
   "execution_count": 35,
   "metadata": {},
   "outputs": [
    {
     "data": {
      "text/plain": [
       "LSTM_classifier(\n",
       "  (lstm_layer): LSTM(50, 64, num_layers=2, batch_first=True)\n",
       "  (fully_connected_layer): Linear(in_features=64, out_features=2, bias=True)\n",
       ")"
      ]
     },
     "execution_count": 35,
     "metadata": {},
     "output_type": "execute_result"
    }
   ],
   "source": [
    "model"
   ]
  },
  {
   "cell_type": "code",
   "execution_count": 36,
   "metadata": {},
   "outputs": [],
   "source": [
    "criterion = nn.CrossEntropyLoss()\n",
    "optimizer = optim.Adam(model.parameters(), lr = 0.001)\n"
   ]
  },
  {
   "cell_type": "code",
   "execution_count": 38,
   "metadata": {},
   "outputs": [
    {
     "name": "stdout",
     "output_type": "stream",
     "text": [
      "Epoch [1/100], Loss: 0.6848512887954712\n",
      "Epoch [2/100], Loss: 0.684639573097229\n",
      "Epoch [3/100], Loss: 0.6844321489334106\n",
      "Epoch [4/100], Loss: 0.684144914150238\n",
      "Epoch [5/100], Loss: 0.6837278008460999\n",
      "Epoch [6/100], Loss: 0.6831711530685425\n",
      "Epoch [7/100], Loss: 0.6825002431869507\n",
      "Epoch [8/100], Loss: 0.6817581057548523\n",
      "Epoch [9/100], Loss: 0.6809813976287842\n",
      "Epoch [10/100], Loss: 0.6801568865776062\n",
      "Epoch [11/100], Loss: 0.6791759729385376\n",
      "Epoch [12/100], Loss: 0.6778669953346252\n",
      "Epoch [13/100], Loss: 0.6761376857757568\n",
      "Epoch [14/100], Loss: 0.674065113067627\n",
      "Epoch [15/100], Loss: 0.6717253923416138\n",
      "Epoch [16/100], Loss: 0.6687602996826172\n",
      "Epoch [17/100], Loss: 0.6646113395690918\n",
      "Epoch [18/100], Loss: 0.6594758629798889\n",
      "Epoch [19/100], Loss: 0.6533747911453247\n",
      "Epoch [20/100], Loss: 0.6448305249214172\n",
      "Epoch [21/100], Loss: 0.6352527141571045\n",
      "Epoch [22/100], Loss: 0.6222731471061707\n",
      "Epoch [23/100], Loss: 0.6073257327079773\n",
      "Epoch [24/100], Loss: 0.594825804233551\n",
      "Epoch [25/100], Loss: 0.591956615447998\n",
      "Epoch [26/100], Loss: 0.5733990669250488\n",
      "Epoch [27/100], Loss: 0.5603161454200745\n",
      "Epoch [28/100], Loss: 0.571716845035553\n",
      "Epoch [29/100], Loss: 0.5455448627471924\n",
      "Epoch [30/100], Loss: 0.5411633253097534\n",
      "Epoch [31/100], Loss: 0.5381826162338257\n",
      "Epoch [32/100], Loss: 0.5115705728530884\n",
      "Epoch [33/100], Loss: 0.5166863203048706\n",
      "Epoch [34/100], Loss: 0.491990327835083\n",
      "Epoch [35/100], Loss: 0.48784735798835754\n",
      "Epoch [36/100], Loss: 0.4774248003959656\n",
      "Epoch [37/100], Loss: 0.45687031745910645\n",
      "Epoch [38/100], Loss: 0.45981138944625854\n",
      "Epoch [39/100], Loss: 0.43817126750946045\n",
      "Epoch [40/100], Loss: 0.4224103093147278\n",
      "Epoch [41/100], Loss: 0.4273974299430847\n",
      "Epoch [42/100], Loss: 0.4146381616592407\n",
      "Epoch [43/100], Loss: 0.3865325152873993\n",
      "Epoch [44/100], Loss: 0.3803474009037018\n",
      "Epoch [45/100], Loss: 0.3938017189502716\n",
      "Epoch [46/100], Loss: 0.3931635618209839\n",
      "Epoch [47/100], Loss: 0.35412371158599854\n",
      "Epoch [48/100], Loss: 0.33409449458122253\n",
      "Epoch [49/100], Loss: 0.35160553455352783\n",
      "Epoch [50/100], Loss: 0.34359413385391235\n",
      "Epoch [51/100], Loss: 0.3048871159553528\n",
      "Epoch [52/100], Loss: 0.30243659019470215\n",
      "Epoch [53/100], Loss: 0.31640884280204773\n",
      "Epoch [54/100], Loss: 0.29256564378738403\n",
      "Epoch [55/100], Loss: 0.2638501524925232\n",
      "Epoch [56/100], Loss: 0.2704678475856781\n",
      "Epoch [57/100], Loss: 0.2794543504714966\n",
      "Epoch [58/100], Loss: 0.2568727433681488\n",
      "Epoch [59/100], Loss: 0.22529831528663635\n",
      "Epoch [60/100], Loss: 0.22178563475608826\n",
      "Epoch [61/100], Loss: 0.23730286955833435\n",
      "Epoch [62/100], Loss: 0.2393326312303543\n",
      "Epoch [63/100], Loss: 0.2166236937046051\n",
      "Epoch [64/100], Loss: 0.1794128566980362\n",
      "Epoch [65/100], Loss: 0.17426083981990814\n",
      "Epoch [66/100], Loss: 0.19349582493305206\n",
      "Epoch [67/100], Loss: 0.19448718428611755\n",
      "Epoch [68/100], Loss: 0.17272637784481049\n",
      "Epoch [69/100], Loss: 0.13732407987117767\n",
      "Epoch [70/100], Loss: 0.13646920025348663\n",
      "Epoch [71/100], Loss: 0.15297074615955353\n",
      "Epoch [72/100], Loss: 0.1389966607093811\n",
      "Epoch [73/100], Loss: 0.1114058867096901\n",
      "Epoch [74/100], Loss: 0.10602903366088867\n",
      "Epoch [75/100], Loss: 0.11350587755441666\n",
      "Epoch [76/100], Loss: 0.10162747651338577\n",
      "Epoch [77/100], Loss: 0.08386819064617157\n",
      "Epoch [78/100], Loss: 0.08741995692253113\n",
      "Epoch [79/100], Loss: 0.08306638896465302\n",
      "Epoch [80/100], Loss: 0.06755926460027695\n",
      "Epoch [81/100], Loss: 0.06874086707830429\n",
      "Epoch [82/100], Loss: 0.0632123127579689\n",
      "Epoch [83/100], Loss: 0.051690779626369476\n",
      "Epoch [84/100], Loss: 0.052924975752830505\n",
      "Epoch [85/100], Loss: 0.0446634478867054\n",
      "Epoch [86/100], Loss: 0.038024768233299255\n",
      "Epoch [87/100], Loss: 0.037955351173877716\n",
      "Epoch [88/100], Loss: 0.029505465179681778\n",
      "Epoch [89/100], Loss: 0.028432749211788177\n",
      "Epoch [90/100], Loss: 0.025218041613698006\n",
      "Epoch [91/100], Loss: 0.021033117547631264\n",
      "Epoch [92/100], Loss: 0.02074025385081768\n",
      "Epoch [93/100], Loss: 0.016367251053452492\n",
      "Epoch [94/100], Loss: 0.01640564762055874\n",
      "Epoch [95/100], Loss: 0.013294236734509468\n",
      "Epoch [96/100], Loss: 0.013340064324438572\n",
      "Epoch [97/100], Loss: 0.010947479866445065\n",
      "Epoch [98/100], Loss: 0.01076485589146614\n",
      "Epoch [99/100], Loss: 0.009301554411649704\n",
      "Epoch [100/100], Loss: 0.00860657263547182\n"
     ]
    }
   ],
   "source": [
    "num_epochs = 100\n",
    "\n",
    "for epoch in range(num_epochs):\n",
    "    optimizer.zero_grad()\n",
    "\n",
    "    outputs = model(X_train_tensor)\n",
    "    loss = criterion(outputs, y_train_tensor)\n",
    "    loss.backward()\n",
    "\n",
    "    optimizer.step()\n",
    "\n",
    "    print(f'Epoch [{epoch+1}/{num_epochs}], Loss: {loss.item()}')\n",
    "\n",
    "\n"
   ]
  },
  {
   "cell_type": "code",
   "execution_count": 43,
   "metadata": {},
   "outputs": [
    {
     "name": "stdout",
     "output_type": "stream",
     "text": [
      "Predictions  tensor([1, 0, 0, 1, 1, 1, 0, 1, 1, 1])\n"
     ]
    }
   ],
   "source": [
    "X_test = np.random.rand(10, 10, 50)\n",
    "X_test_tensor = torch.tensor(X_test, dtype= torch.float32)\n",
    "\n",
    "with torch.no_grad():\n",
    "    y_pred = model(X_test_tensor)\n",
    "    prediction_labels = torch.argmax(y_pred, dim =1)\n",
    "    print(\"Predictions \", prediction_labels)"
   ]
  },
  {
   "cell_type": "code",
   "execution_count": null,
   "metadata": {},
   "outputs": [],
   "source": []
  }
 ],
 "metadata": {
  "kernelspec": {
   "display_name": "Python 3.10 (tensorflow)",
   "language": "python",
   "name": "tensorflow"
  },
  "language_info": {
   "codemirror_mode": {
    "name": "ipython",
    "version": 3
   },
   "file_extension": ".py",
   "mimetype": "text/x-python",
   "name": "python",
   "nbconvert_exporter": "python",
   "pygments_lexer": "ipython3",
   "version": "3.9.6"
  },
  "orig_nbformat": 4
 },
 "nbformat": 4,
 "nbformat_minor": 2
}
