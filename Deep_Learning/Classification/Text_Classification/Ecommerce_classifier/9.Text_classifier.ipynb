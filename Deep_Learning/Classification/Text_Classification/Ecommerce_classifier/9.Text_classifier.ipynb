{
 "cells": [
  {
   "cell_type": "code",
   "execution_count": 1,
   "metadata": {},
   "outputs": [],
   "source": [
    "import torch \n",
    "import torch.nn as nn \n",
    "import torch.nn.functional as F \n",
    "from torch.utils.data import dataset, DataLoader\n",
    "\n",
    "import pandas as pd \n",
    "import numpy as np \n",
    "from sklearn.model_selection import train_test_split \n",
    "from sklearn.metrics import accuracy_score,classification_report\n",
    "import matplotlib.pyplot as plt\n",
    "import nltk"
   ]
  },
  {
   "cell_type": "code",
   "execution_count": 2,
   "metadata": {},
   "outputs": [
    {
     "data": {
      "text/html": [
       "<div>\n",
       "<style scoped>\n",
       "    .dataframe tbody tr th:only-of-type {\n",
       "        vertical-align: middle;\n",
       "    }\n",
       "\n",
       "    .dataframe tbody tr th {\n",
       "        vertical-align: top;\n",
       "    }\n",
       "\n",
       "    .dataframe thead th {\n",
       "        text-align: right;\n",
       "    }\n",
       "</style>\n",
       "<table border=\"1\" class=\"dataframe\">\n",
       "  <thead>\n",
       "    <tr style=\"text-align: right;\">\n",
       "      <th></th>\n",
       "      <th>Item</th>\n",
       "      <th>Review</th>\n",
       "    </tr>\n",
       "  </thead>\n",
       "  <tbody>\n",
       "    <tr>\n",
       "      <th>0</th>\n",
       "      <td>Household</td>\n",
       "      <td>Paper Plane Design Framed Wall Hanging Motivat...</td>\n",
       "    </tr>\n",
       "    <tr>\n",
       "      <th>1</th>\n",
       "      <td>Household</td>\n",
       "      <td>SAF 'Floral' Framed Painting (Wood, 30 inch x ...</td>\n",
       "    </tr>\n",
       "    <tr>\n",
       "      <th>2</th>\n",
       "      <td>Household</td>\n",
       "      <td>SAF 'UV Textured Modern Art Print Framed' Pain...</td>\n",
       "    </tr>\n",
       "    <tr>\n",
       "      <th>3</th>\n",
       "      <td>Household</td>\n",
       "      <td>SAF Flower Print Framed Painting (Synthetic, 1...</td>\n",
       "    </tr>\n",
       "    <tr>\n",
       "      <th>4</th>\n",
       "      <td>Household</td>\n",
       "      <td>Incredible Gifts India Wooden Happy Birthday U...</td>\n",
       "    </tr>\n",
       "  </tbody>\n",
       "</table>\n",
       "</div>"
      ],
      "text/plain": [
       "        Item                                             Review\n",
       "0  Household  Paper Plane Design Framed Wall Hanging Motivat...\n",
       "1  Household  SAF 'Floral' Framed Painting (Wood, 30 inch x ...\n",
       "2  Household  SAF 'UV Textured Modern Art Print Framed' Pain...\n",
       "3  Household  SAF Flower Print Framed Painting (Synthetic, 1...\n",
       "4  Household  Incredible Gifts India Wooden Happy Birthday U..."
      ]
     },
     "execution_count": 2,
     "metadata": {},
     "output_type": "execute_result"
    }
   ],
   "source": [
    "column_names = ['Item', 'Review']\n",
    "data = pd.read_csv(\"ecommerceDataset.csv\", names = column_names)\n",
    "data.head(5)"
   ]
  },
  {
   "cell_type": "code",
   "execution_count": 3,
   "metadata": {},
   "outputs": [
    {
     "data": {
      "text/plain": [
       "array(['Household', 'Books', 'Clothing & Accessories', 'Electronics'],\n",
       "      dtype=object)"
      ]
     },
     "execution_count": 3,
     "metadata": {},
     "output_type": "execute_result"
    }
   ],
   "source": [
    "data.Item.unique()"
   ]
  },
  {
   "cell_type": "code",
   "execution_count": 4,
   "metadata": {},
   "outputs": [
    {
     "data": {
      "text/html": [
       "<div>\n",
       "<style scoped>\n",
       "    .dataframe tbody tr th:only-of-type {\n",
       "        vertical-align: middle;\n",
       "    }\n",
       "\n",
       "    .dataframe tbody tr th {\n",
       "        vertical-align: top;\n",
       "    }\n",
       "\n",
       "    .dataframe thead th {\n",
       "        text-align: right;\n",
       "    }\n",
       "</style>\n",
       "<table border=\"1\" class=\"dataframe\">\n",
       "  <thead>\n",
       "    <tr style=\"text-align: right;\">\n",
       "      <th></th>\n",
       "      <th>Item</th>\n",
       "      <th>Review</th>\n",
       "    </tr>\n",
       "  </thead>\n",
       "  <tbody>\n",
       "    <tr>\n",
       "      <th>count</th>\n",
       "      <td>50425</td>\n",
       "      <td>50424</td>\n",
       "    </tr>\n",
       "    <tr>\n",
       "      <th>unique</th>\n",
       "      <td>4</td>\n",
       "      <td>27802</td>\n",
       "    </tr>\n",
       "    <tr>\n",
       "      <th>top</th>\n",
       "      <td>Household</td>\n",
       "      <td>Think &amp; Grow Rich About the Author NAPOLEON HI...</td>\n",
       "    </tr>\n",
       "    <tr>\n",
       "      <th>freq</th>\n",
       "      <td>19313</td>\n",
       "      <td>30</td>\n",
       "    </tr>\n",
       "  </tbody>\n",
       "</table>\n",
       "</div>"
      ],
      "text/plain": [
       "             Item                                             Review\n",
       "count       50425                                              50424\n",
       "unique          4                                              27802\n",
       "top     Household  Think & Grow Rich About the Author NAPOLEON HI...\n",
       "freq        19313                                                 30"
      ]
     },
     "execution_count": 4,
     "metadata": {},
     "output_type": "execute_result"
    }
   ],
   "source": [
    "data.describe()"
   ]
  },
  {
   "cell_type": "code",
   "execution_count": 5,
   "metadata": {},
   "outputs": [],
   "source": [
    "data.dropna(inplace=True)"
   ]
  },
  {
   "cell_type": "code",
   "execution_count": 6,
   "metadata": {},
   "outputs": [
    {
     "data": {
      "text/plain": [
       "(27802, 2)"
      ]
     },
     "execution_count": 6,
     "metadata": {},
     "output_type": "execute_result"
    }
   ],
   "source": [
    "data.drop_duplicates(inplace=True)\n",
    "data.shape"
   ]
  },
  {
   "cell_type": "code",
   "execution_count": 7,
   "metadata": {},
   "outputs": [],
   "source": [
    "new_data = data.copy()\n",
    "new_data = new_data.reset_index()"
   ]
  },
  {
   "cell_type": "code",
   "execution_count": 8,
   "metadata": {},
   "outputs": [],
   "source": [
    "from nltk.stem import PorterStemmer\n",
    "from nltk.corpus import stopwords\n",
    "import re\n",
    "ps = PorterStemmer()"
   ]
  },
  {
   "cell_type": "code",
   "execution_count": 9,
   "metadata": {},
   "outputs": [],
   "source": [
    "corpus = []\n",
    "\n",
    "for row in range((new_data.shape[0])):\n",
    "\n",
    "    clean_row = re.sub('[^a-zA-z]' , ' ', new_data['Review'][row])\n",
    "    clean_row = clean_row.lower()\n",
    "    clean_row = clean_row.split()\n",
    "    stem_words = [ps.stem(word) for word in clean_row if word not in (stopwords.words('english'))]\n",
    "    complete_clean_words = ''.join(stem_words)\n",
    "\n",
    "    corpus.append(complete_clean_words)\n",
    "\n"
   ]
  },
  {
   "cell_type": "markdown",
   "metadata": {},
   "source": [
    "## CountVectorizer - Convert Text to numeric vectors"
   ]
  },
  {
   "cell_type": "code",
   "execution_count": 18,
   "metadata": {},
   "outputs": [],
   "source": [
    "from sklearn.feature_extraction.text import TfidfVectorizer\n",
    "tfidf = TfidfVectorizer(max_features = 2000, max_df = 0.6,min_df =10)\n",
    "numeric_vectors = tfidf.fit_transform(corpus).toarray()"
   ]
  },
  {
   "cell_type": "code",
   "execution_count": 19,
   "metadata": {},
   "outputs": [
    {
     "data": {
      "text/plain": [
       "(27802, 5)"
      ]
     },
     "execution_count": 19,
     "metadata": {},
     "output_type": "execute_result"
    }
   ],
   "source": [
    "numeric_vectors.shape"
   ]
  },
  {
   "cell_type": "code",
   "execution_count": 20,
   "metadata": {},
   "outputs": [
    {
     "data": {
      "text/plain": [
       "array([3, 3, 3, ..., 2, 2, 2])"
      ]
     },
     "execution_count": 20,
     "metadata": {},
     "output_type": "execute_result"
    }
   ],
   "source": [
    "y = data['Item'].values\n",
    "from sklearn.preprocessing import LabelEncoder\n",
    "le = LabelEncoder()\n",
    "y = le.fit_transform(y)\n",
    "y"
   ]
  },
  {
   "cell_type": "code",
   "execution_count": 21,
   "metadata": {},
   "outputs": [
    {
     "data": {
      "text/plain": [
       "((19461, 5), (8341, 5), (19461,), (8341,))"
      ]
     },
     "execution_count": 21,
     "metadata": {},
     "output_type": "execute_result"
    }
   ],
   "source": [
    "#Data train test split \n",
    "X_train, X_test, y_train,y_test = train_test_split(numeric_vectors, y, test_size=0.3, random_state=0)\n",
    "X_train.shape, X_test.shape, y_train.shape,y_test.shape"
   ]
  },
  {
   "cell_type": "code",
   "execution_count": 22,
   "metadata": {},
   "outputs": [],
   "source": [
    "input_size = X_train.shape[1]\n",
    "hidden_size1= 200\n",
    "hidden_size2 = 100\n",
    "output_size = 4\n",
    "batch_size = 32"
   ]
  },
  {
   "cell_type": "code",
   "execution_count": 23,
   "metadata": {},
   "outputs": [
    {
     "name": "stdout",
     "output_type": "stream",
     "text": [
      "Review_classifier(\n",
      "  (layer1): Linear(in_features=5, out_features=200, bias=True)\n",
      "  (layer2): Linear(in_features=200, out_features=100, bias=True)\n",
      "  (layer3): Linear(in_features=100, out_features=4, bias=True)\n",
      ")\n"
     ]
    }
   ],
   "source": [
    "## Network building\n",
    "\n",
    "class Review_classifier(nn.Module):\n",
    "    def __init__(self):\n",
    "        super(Review_classifier, self).__init__()\n",
    "\n",
    "        self.layer1 = nn.Linear(input_size, hidden_size1)\n",
    "        self.layer2 = nn.Linear(hidden_size1, hidden_size2)\n",
    "        self.layer3 = nn.Linear(hidden_size2, output_size)\n",
    "\n",
    "    def forward(self,x):\n",
    "        outputs = F.relu(self.layer1(x))\n",
    "        outputs = F.relu(self.layer2(outputs))\n",
    "\n",
    "        outputs = F.relu(self.layer3(outputs))\n",
    "\n",
    "        return outputs\n",
    "\n",
    "model = Review_classifier()\n",
    "print(model)"
   ]
  },
  {
   "cell_type": "markdown",
   "metadata": {},
   "source": [
    "## Model parameters and training"
   ]
  },
  {
   "cell_type": "code",
   "execution_count": 24,
   "metadata": {},
   "outputs": [],
   "source": [
    "X_train = torch.from_numpy(X_train).float()\n",
    "X_test = torch.from_numpy(X_test).float()\n",
    "\n",
    "y_train = torch.from_numpy(y_train)\n",
    "y_test = torch.from_numpy(y_test)"
   ]
  },
  {
   "cell_type": "code",
   "execution_count": 25,
   "metadata": {},
   "outputs": [],
   "source": [
    "epochs = 200\n",
    "learning_rate = 0.01\n",
    "criterion = nn.CrossEntropyLoss()\n",
    "adam_optim = torch.optim.Adam(model.parameters(), lr=learning_rate)"
   ]
  },
  {
   "cell_type": "code",
   "execution_count": 26,
   "metadata": {},
   "outputs": [
    {
     "name": "stdout",
     "output_type": "stream",
     "text": [
      "Epoch 0, Loss : 1.3888499736785889\n",
      "Epoch 1, Loss : 1.3861902952194214\n",
      "Epoch 2, Loss : 1.3902260065078735\n",
      "Epoch 3, Loss : 1.3858072757720947\n",
      "Epoch 4, Loss : 1.3480374813079834\n",
      "Epoch 5, Loss : 1.350712776184082\n",
      "Epoch 6, Loss : 1.361232042312622\n",
      "Epoch 7, Loss : 1.354092001914978\n",
      "Epoch 8, Loss : 1.3454474210739136\n",
      "Epoch 9, Loss : 1.3448598384857178\n",
      "Epoch 10, Loss : 1.3488972187042236\n",
      "Epoch 11, Loss : 1.3511933088302612\n",
      "Epoch 12, Loss : 1.3502273559570312\n",
      "Epoch 13, Loss : 1.347348690032959\n",
      "Epoch 14, Loss : 1.3447182178497314\n",
      "Epoch 15, Loss : 1.343867301940918\n",
      "Epoch 16, Loss : 1.3449058532714844\n",
      "Epoch 17, Loss : 1.346077561378479\n",
      "Epoch 18, Loss : 1.345953345298767\n",
      "Epoch 19, Loss : 1.344751238822937\n",
      "Epoch 20, Loss : 1.343845009803772\n",
      "Epoch 21, Loss : 1.3441561460494995\n",
      "Epoch 22, Loss : 1.344933032989502\n",
      "Epoch 23, Loss : 1.3449870347976685\n",
      "Epoch 24, Loss : 1.3443994522094727\n",
      "Epoch 25, Loss : 1.3438695669174194\n",
      "Epoch 26, Loss : 1.343873143196106\n",
      "Epoch 27, Loss : 1.3442288637161255\n",
      "Epoch 28, Loss : 1.3444350957870483\n",
      "Epoch 29, Loss : 1.344261646270752\n",
      "Epoch 30, Loss : 1.3439363241195679\n",
      "Epoch 31, Loss : 1.3438029289245605\n",
      "Epoch 32, Loss : 1.3439388275146484\n",
      "Epoch 33, Loss : 1.344125747680664\n",
      "Epoch 34, Loss : 1.3441283702850342\n",
      "Epoch 35, Loss : 1.3439682722091675\n",
      "Epoch 36, Loss : 1.3438217639923096\n",
      "Epoch 37, Loss : 1.343822717666626\n",
      "Epoch 38, Loss : 1.3439204692840576\n",
      "Epoch 39, Loss : 1.3439738750457764\n",
      "Epoch 40, Loss : 1.3439216613769531\n",
      "Epoch 41, Loss : 1.3438286781311035\n",
      "Epoch 42, Loss : 1.3438061475753784\n",
      "Epoch 43, Loss : 1.3438605070114136\n",
      "Epoch 44, Loss : 1.343901515007019\n",
      "Epoch 45, Loss : 1.343874454498291\n",
      "Epoch 46, Loss : 1.343820333480835\n",
      "Epoch 47, Loss : 1.3438034057617188\n",
      "Epoch 48, Loss : 1.3438316583633423\n",
      "Epoch 49, Loss : 1.3438585996627808\n",
      "Epoch 50, Loss : 1.3438482284545898\n",
      "Epoch 51, Loss : 1.3438163995742798\n",
      "Epoch 52, Loss : 1.3438023328781128\n",
      "Epoch 53, Loss : 1.3438161611557007\n",
      "Epoch 54, Loss : 1.3438341617584229\n",
      "Epoch 55, Loss : 1.3438318967819214\n",
      "Epoch 56, Loss : 1.3438137769699097\n",
      "Epoch 57, Loss : 1.343802571296692\n",
      "Epoch 58, Loss : 1.3438091278076172\n",
      "Epoch 59, Loss : 1.343820333480835\n",
      "Epoch 60, Loss : 1.3438206911087036\n",
      "Epoch 61, Loss : 1.343809962272644\n",
      "Epoch 62, Loss : 1.343802809715271\n",
      "Epoch 63, Loss : 1.3438060283660889\n",
      "Epoch 64, Loss : 1.3438129425048828\n",
      "Epoch 65, Loss : 1.3438133001327515\n",
      "Epoch 66, Loss : 1.3438068628311157\n",
      "Epoch 67, Loss : 1.343802571296692\n",
      "Epoch 68, Loss : 1.3438044786453247\n",
      "Epoch 69, Loss : 1.3438087701797485\n",
      "Epoch 70, Loss : 1.3438084125518799\n",
      "Epoch 71, Loss : 1.3438048362731934\n",
      "Epoch 72, Loss : 1.3438022136688232\n",
      "Epoch 73, Loss : 1.343804121017456\n",
      "Epoch 74, Loss : 1.3438066244125366\n",
      "Epoch 75, Loss : 1.3438060283660889\n",
      "Epoch 76, Loss : 1.3438032865524292\n",
      "Epoch 77, Loss : 1.3438023328781128\n",
      "Epoch 78, Loss : 1.3438036441802979\n",
      "Epoch 79, Loss : 1.3438050746917725\n",
      "Epoch 80, Loss : 1.343804121017456\n",
      "Epoch 81, Loss : 1.343802809715271\n",
      "Epoch 82, Loss : 1.3438024520874023\n",
      "Epoch 83, Loss : 1.3438036441802979\n",
      "Epoch 84, Loss : 1.343803882598877\n",
      "Epoch 85, Loss : 1.3438032865524292\n",
      "Epoch 86, Loss : 1.3438023328781128\n",
      "Epoch 87, Loss : 1.343802809715271\n",
      "Epoch 88, Loss : 1.3438032865524292\n",
      "Epoch 89, Loss : 1.3438032865524292\n",
      "Epoch 90, Loss : 1.3438026905059814\n",
      "Epoch 91, Loss : 1.343802571296692\n",
      "Epoch 92, Loss : 1.3438024520874023\n",
      "Epoch 93, Loss : 1.3438029289245605\n",
      "Epoch 94, Loss : 1.3438026905059814\n",
      "Epoch 95, Loss : 1.3438023328781128\n",
      "Epoch 96, Loss : 1.3438023328781128\n",
      "Epoch 97, Loss : 1.343802809715271\n",
      "Epoch 98, Loss : 1.3438024520874023\n",
      "Epoch 99, Loss : 1.3438024520874023\n",
      "Epoch 100, Loss : 1.3438023328781128\n",
      "Epoch 101, Loss : 1.3438022136688232\n",
      "Epoch 102, Loss : 1.3438024520874023\n",
      "Epoch 103, Loss : 1.343802809715271\n",
      "Epoch 104, Loss : 1.3438022136688232\n",
      "Epoch 105, Loss : 1.3438023328781128\n",
      "Epoch 106, Loss : 1.3438023328781128\n",
      "Epoch 107, Loss : 1.343802571296692\n",
      "Epoch 108, Loss : 1.343802571296692\n",
      "Epoch 109, Loss : 1.3438023328781128\n",
      "Epoch 110, Loss : 1.3438023328781128\n",
      "Epoch 111, Loss : 1.3438023328781128\n",
      "Epoch 112, Loss : 1.343802571296692\n",
      "Epoch 113, Loss : 1.343802571296692\n",
      "Epoch 114, Loss : 1.3438022136688232\n",
      "Epoch 115, Loss : 1.3438023328781128\n",
      "Epoch 116, Loss : 1.3438024520874023\n",
      "Epoch 117, Loss : 1.3438023328781128\n",
      "Epoch 118, Loss : 1.343802571296692\n",
      "Epoch 119, Loss : 1.3438022136688232\n",
      "Epoch 120, Loss : 1.343802571296692\n",
      "Epoch 121, Loss : 1.3438023328781128\n",
      "Epoch 122, Loss : 1.3438022136688232\n",
      "Epoch 123, Loss : 1.3438023328781128\n",
      "Epoch 124, Loss : 1.3438023328781128\n",
      "Epoch 125, Loss : 1.3438023328781128\n",
      "Epoch 126, Loss : 1.3438023328781128\n",
      "Epoch 127, Loss : 1.3438023328781128\n",
      "Epoch 128, Loss : 1.3438023328781128\n",
      "Epoch 129, Loss : 1.3438023328781128\n",
      "Epoch 130, Loss : 1.3438023328781128\n",
      "Epoch 131, Loss : 1.3438020944595337\n",
      "Epoch 132, Loss : 1.3438023328781128\n",
      "Epoch 133, Loss : 1.3438023328781128\n",
      "Epoch 134, Loss : 1.3438022136688232\n",
      "Epoch 135, Loss : 1.3438023328781128\n",
      "Epoch 136, Loss : 1.3438022136688232\n",
      "Epoch 137, Loss : 1.3438023328781128\n",
      "Epoch 138, Loss : 1.3438023328781128\n",
      "Epoch 139, Loss : 1.3438023328781128\n",
      "Epoch 140, Loss : 1.3438022136688232\n",
      "Epoch 141, Loss : 1.3438024520874023\n",
      "Epoch 142, Loss : 1.3438023328781128\n",
      "Epoch 143, Loss : 1.343802571296692\n",
      "Epoch 144, Loss : 1.343802571296692\n",
      "Epoch 145, Loss : 1.3438023328781128\n",
      "Epoch 146, Loss : 1.343802571296692\n",
      "Epoch 147, Loss : 1.3438023328781128\n",
      "Epoch 148, Loss : 1.3438023328781128\n",
      "Epoch 149, Loss : 1.343802571296692\n",
      "Epoch 150, Loss : 1.3438022136688232\n",
      "Epoch 151, Loss : 1.3438023328781128\n",
      "Epoch 152, Loss : 1.343802571296692\n",
      "Epoch 153, Loss : 1.3438020944595337\n",
      "Epoch 154, Loss : 1.3438023328781128\n",
      "Epoch 155, Loss : 1.3438023328781128\n",
      "Epoch 156, Loss : 1.3438023328781128\n",
      "Epoch 157, Loss : 1.3438023328781128\n",
      "Epoch 158, Loss : 1.3438023328781128\n",
      "Epoch 159, Loss : 1.3438022136688232\n",
      "Epoch 160, Loss : 1.3438022136688232\n",
      "Epoch 161, Loss : 1.343802571296692\n",
      "Epoch 162, Loss : 1.3438022136688232\n",
      "Epoch 163, Loss : 1.3438023328781128\n",
      "Epoch 164, Loss : 1.3438019752502441\n",
      "Epoch 165, Loss : 1.343802571296692\n",
      "Epoch 166, Loss : 1.3438022136688232\n",
      "Epoch 167, Loss : 1.3438022136688232\n",
      "Epoch 168, Loss : 1.3438023328781128\n",
      "Epoch 169, Loss : 1.343802571296692\n",
      "Epoch 170, Loss : 1.3438023328781128\n",
      "Epoch 171, Loss : 1.3438022136688232\n",
      "Epoch 172, Loss : 1.3438023328781128\n",
      "Epoch 173, Loss : 1.3438019752502441\n",
      "Epoch 174, Loss : 1.3438023328781128\n",
      "Epoch 175, Loss : 1.3438023328781128\n",
      "Epoch 176, Loss : 1.3438022136688232\n",
      "Epoch 177, Loss : 1.3438023328781128\n",
      "Epoch 178, Loss : 1.3438023328781128\n",
      "Epoch 179, Loss : 1.3438022136688232\n",
      "Epoch 180, Loss : 1.3438023328781128\n",
      "Epoch 181, Loss : 1.3438022136688232\n",
      "Epoch 182, Loss : 1.3438023328781128\n",
      "Epoch 183, Loss : 1.3438022136688232\n",
      "Epoch 184, Loss : 1.3438020944595337\n",
      "Epoch 185, Loss : 1.3438020944595337\n",
      "Epoch 186, Loss : 1.3438022136688232\n",
      "Epoch 187, Loss : 1.3438023328781128\n",
      "Epoch 188, Loss : 1.3438022136688232\n",
      "Epoch 189, Loss : 1.3438023328781128\n",
      "Epoch 190, Loss : 1.3438023328781128\n",
      "Epoch 191, Loss : 1.3438023328781128\n",
      "Epoch 192, Loss : 1.3438023328781128\n",
      "Epoch 193, Loss : 1.3438023328781128\n",
      "Epoch 194, Loss : 1.3438023328781128\n",
      "Epoch 195, Loss : 1.3438022136688232\n",
      "Epoch 196, Loss : 1.3438023328781128\n",
      "Epoch 197, Loss : 1.3438020944595337\n",
      "Epoch 198, Loss : 1.3438023328781128\n",
      "Epoch 199, Loss : 1.3438023328781128\n"
     ]
    }
   ],
   "source": [
    "#Training\n",
    "\n",
    "running_loss = []\n",
    "for epoch in range(epochs):\n",
    "\n",
    "    adam_optim.zero_grad()\n",
    "    y_pred = model(X_train)\n",
    "    loss = criterion(y_pred, y_train)\n",
    "\n",
    "    loss.backward()\n",
    "    running_loss.append(loss)\n",
    "    adam_optim.step()\n",
    "\n",
    "    print(f\"Epoch {epoch}, Loss : {loss.item()}\")\n",
    "    "
   ]
  },
  {
   "cell_type": "code",
   "execution_count": 28,
   "metadata": {},
   "outputs": [
    {
     "data": {
      "text/plain": [
       "tensor([[0.0000, 0.0000, 0.0000, 0.6193],\n",
       "        [0.0000, 0.0000, 0.0000, 0.6193],\n",
       "        [0.0000, 0.0000, 0.0000, 0.6193],\n",
       "        ...,\n",
       "        [0.0000, 0.0000, 0.0000, 0.6193],\n",
       "        [0.0000, 0.0000, 0.0000, 0.6193],\n",
       "        [0.0000, 0.0000, 0.0000, 0.6193]], grad_fn=<ReluBackward0>)"
      ]
     },
     "execution_count": 28,
     "metadata": {},
     "output_type": "execute_result"
    }
   ],
   "source": [
    "predictions = model(X_test)\n",
    "predictions"
   ]
  },
  {
   "cell_type": "code",
   "execution_count": null,
   "metadata": {},
   "outputs": [],
   "source": []
  }
 ],
 "metadata": {
  "kernelspec": {
   "display_name": "Python 3.10 (tensorflow)",
   "language": "python",
   "name": "tensorflow"
  },
  "language_info": {
   "codemirror_mode": {
    "name": "ipython",
    "version": 3
   },
   "file_extension": ".py",
   "mimetype": "text/x-python",
   "name": "python",
   "nbconvert_exporter": "python",
   "pygments_lexer": "ipython3",
   "version": "3.9.6"
  },
  "orig_nbformat": 4
 },
 "nbformat": 4,
 "nbformat_minor": 2
}
