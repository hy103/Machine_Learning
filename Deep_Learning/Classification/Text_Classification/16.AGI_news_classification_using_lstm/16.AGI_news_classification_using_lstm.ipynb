{
 "cells": [
  {
   "cell_type": "code",
   "execution_count": 2,
   "metadata": {},
   "outputs": [],
   "source": [
    "import pandas as pd\n",
    "import numpy as np\n",
    "import matplotlib.pyplot as plt\n",
    "\n",
    "import torch\n",
    "import torch.nn as nn\n",
    "from torch import optim\n",
    "from torch.utils.data import DataLoader\n",
    "from torch.utils.data.dataset import Dataset\n",
    "import torch.nn.functional as F\n",
    "\n",
    "# We'll be using Pytorch's text library called torchtext! \n",
    "from torchtext.datasets import AG_NEWS\n",
    "from torchtext.data.utils import get_tokenizer\n",
    "from torchtext.vocab import build_vocab_from_iterator\n",
    "import torchtext.transforms as T\n",
    "\n",
    "from tqdm.notebook import trange, tqdm"
   ]
  },
  {
   "cell_type": "code",
   "execution_count": 7,
   "metadata": {},
   "outputs": [],
   "source": [
    "learning_rate = 1e-4\n",
    "\n",
    "nepochs = 20\n",
    "\n",
    "batch_size = 32\n",
    "\n",
    "max_len = 128\n",
    "data_set_root = \"../../datasets\"\n",
    "\n",
    "# We'll be using the AG News Dataset\n",
    "# Which contains a short news article and a single label to classify the \"type\" of article\n",
    "# Note that for torchtext these datasets are NOT Pytorch dataset classes \"AG_NEWS\" is a function that\n",
    "# returns a Pytorch DataPipe!\n",
    "\n",
    "# Pytorch DataPipes vvv\n",
    "# https://pytorch.org/data/main/torchdata.datapipes.iter.html\n",
    "\n",
    "# vvv Good Blog on the difference between DataSet and DataPipe\n",
    "# https://medium.com/deelvin-machine-learning/comparison-of-pytorch-dataset-and-torchdata-datapipes-486e03068c58\n",
    "dataset_train = AG_NEWS(root=data_set_root, split=\"train\")\n",
    "dataset_test = AG_NEWS(root=data_set_root, split=\"test\")"
   ]
  },
  {
   "cell_type": "code",
   "execution_count": 9,
   "metadata": {},
   "outputs": [
    {
     "name": "stderr",
     "output_type": "stream",
     "text": [
      "/Users/harshayarravarapu/Library/Python/3.9/lib/python/site-packages/torch/utils/data/datapipes/iter/combining.py:337: UserWarning: Some child DataPipes are not exhausted when __iter__ is called. We are resetting the buffer and each child DataPipe will read from the start again.\n",
      "  warnings.warn(\"Some child DataPipes are not exhausted when __iter__ is called. We are resetting \"\n"
     ]
    }
   ],
   "source": [
    "tokenizer = get_tokenizer(\"basic_english\")\n",
    "\n",
    "def yield_tokens(data_iter):\n",
    "    for _, text in data_iter:\n",
    "        yield tokenizer(text)\n",
    "\n",
    "# The vocab is all the unique tokens contained within our dataset\n",
    "# and provides each token with it's own integer index.\n",
    "\n",
    "# We will also add \"special\" tokens that we'll use to signal something to our model\n",
    "# <pad> is a padding token that is added to the end of a sentance to ensure \n",
    "# the length of all sequences in a batch is the same\n",
    "# <sos> signals the \"Start-Of-Sentence\" aka the start of the sequence\n",
    "# <eos> signal the \"End-Of-Sentence\" aka the end of the sequence\n",
    "# <unk> \"unknown\" token is used if a token is not contained in the vocab\n",
    "vocab = build_vocab_from_iterator(\n",
    "    yield_tokens(dataset_train),\n",
    "    min_freq=2, # Only include a token if it appears more than 2 times in the dataset\n",
    "    specials= ['<pad>', '<sos>', '<eos>', '<unk>'], # special case tokens\n",
    "    special_first=True\n",
    ")\n",
    "\n",
    "# Set the <unk> \"unknown\" token as the default token\n",
    "vocab.set_default_index(vocab['<unk>'])"
   ]
  },
  {
   "cell_type": "code",
   "execution_count": 11,
   "metadata": {},
   "outputs": [
    {
     "data": {
      "text/plain": [
       "['<pad>',\n",
       " '<sos>',\n",
       " '<eos>',\n",
       " '<unk>',\n",
       " '.',\n",
       " 'the',\n",
       " ',',\n",
       " 'to',\n",
       " 'a',\n",
       " 'of',\n",
       " 'in',\n",
       " 'and',\n",
       " 's',\n",
       " 'on',\n",
       " 'for',\n",
       " '#39',\n",
       " '(',\n",
       " ')',\n",
       " '-',\n",
       " \"'\",\n",
       " 'that',\n",
       " 'with',\n",
       " 'as',\n",
       " 'at',\n",
       " 'is',\n",
       " 'its',\n",
       " 'new',\n",
       " 'by',\n",
       " 'it',\n",
       " 'said',\n",
       " 'reuters',\n",
       " 'has',\n",
       " 'from',\n",
       " 'an',\n",
       " 'ap',\n",
       " 'his',\n",
       " 'will',\n",
       " 'after',\n",
       " 'was',\n",
       " 'us',\n",
       " 'be',\n",
       " 'over',\n",
       " 'have',\n",
       " 'their',\n",
       " '&lt',\n",
       " 'are',\n",
       " 'up',\n",
       " 'quot',\n",
       " 'but',\n",
       " 'more',\n",
       " 'first',\n",
       " 'two',\n",
       " 'he',\n",
       " 'world',\n",
       " 'u',\n",
       " 'this',\n",
       " '--',\n",
       " 'company',\n",
       " 'monday',\n",
       " 'wednesday',\n",
       " 'tuesday',\n",
       " 'oil',\n",
       " 'out',\n",
       " 'thursday',\n",
       " 'one',\n",
       " 'not',\n",
       " 'against',\n",
       " 'inc',\n",
       " 'friday',\n",
       " 'into',\n",
       " 'they',\n",
       " 'about',\n",
       " 'last',\n",
       " 'iraq',\n",
       " 'year',\n",
       " 'than',\n",
       " 'york',\n",
       " 'yesterday',\n",
       " 'who',\n",
       " 'president',\n",
       " 'microsoft',\n",
       " 'no',\n",
       " 'were',\n",
       " '?',\n",
       " 'been',\n",
       " 'million',\n",
       " 't',\n",
       " 'says',\n",
       " 'week',\n",
       " 'had',\n",
       " 'corp',\n",
       " 'united',\n",
       " 'game',\n",
       " 'when',\n",
       " 'sunday',\n",
       " 'prices',\n",
       " 'could',\n",
       " 'three',\n",
       " 'would',\n",
       " 'today',\n",
       " 'years',\n",
       " 'group',\n",
       " 'security',\n",
       " 'government',\n",
       " 'time',\n",
       " 'people',\n",
       " 'which',\n",
       " 'may',\n",
       " 'afp',\n",
       " 'percent',\n",
       " 'software',\n",
       " '1',\n",
       " 'win',\n",
       " 'off',\n",
       " 'team',\n",
       " 'next',\n",
       " 'back',\n",
       " 'saturday',\n",
       " 'night',\n",
       " 'or',\n",
       " 'china',\n",
       " 'internet',\n",
       " 'season',\n",
       " '2',\n",
       " 'deal',\n",
       " 'can',\n",
       " 'some',\n",
       " 'sales',\n",
       " 'minister',\n",
       " 'market',\n",
       " 'second',\n",
       " 'bush',\n",
       " 'state',\n",
       " 'all',\n",
       " 'top',\n",
       " 'day',\n",
       " 'business',\n",
       " 'announced',\n",
       " 'down',\n",
       " 'news',\n",
       " 'n',\n",
       " 'international',\n",
       " 'billion',\n",
       " '2004',\n",
       " 'former',\n",
       " 'killed',\n",
       " 'most',\n",
       " 'washington',\n",
       " 'record',\n",
       " 'victory',\n",
       " 'officials',\n",
       " 'report',\n",
       " 'open',\n",
       " 'city',\n",
       " 'stocks',\n",
       " 'end',\n",
       " 'profit',\n",
       " 'plans',\n",
       " 'court',\n",
       " 'if',\n",
       " 'service',\n",
       " 'other',\n",
       " 'states',\n",
       " 'home',\n",
       " 'four',\n",
       " '000',\n",
       " '/b&gt',\n",
       " 'b&gt',\n",
       " 'you',\n",
       " 'set',\n",
       " 'before',\n",
       " 'european',\n",
       " 'chief',\n",
       " 'lead',\n",
       " 'technology',\n",
       " 'com',\n",
       " 'talks',\n",
       " 'cup',\n",
       " 'american',\n",
       " 'league',\n",
       " 'just',\n",
       " 'search',\n",
       " 'computer',\n",
       " 'space',\n",
       " 'online',\n",
       " 'country',\n",
       " 'what',\n",
       " 'national',\n",
       " 'now',\n",
       " 'reported',\n",
       " 'shares',\n",
       " 'british',\n",
       " 'take',\n",
       " 'bank',\n",
       " 'third',\n",
       " 'won',\n",
       " 'japan',\n",
       " 'federal',\n",
       " 'red',\n",
       " 'india',\n",
       " 'major',\n",
       " 'police',\n",
       " 'prime',\n",
       " 'network',\n",
       " 'least',\n",
       " 'google',\n",
       " 'make',\n",
       " '10',\n",
       " 'ibm',\n",
       " 'another',\n",
       " 'research',\n",
       " 'iraqi',\n",
       " 'according',\n",
       " 'music',\n",
       " 'south',\n",
       " 'made',\n",
       " 'leader',\n",
       " 'companies',\n",
       " 'help',\n",
       " 'final',\n",
       " '3',\n",
       " 'co',\n",
       " 'maker',\n",
       " 'during',\n",
       " 'games',\n",
       " 'get',\n",
       " 'while',\n",
       " 'web',\n",
       " 'month',\n",
       " 'bid',\n",
       " 'coach',\n",
       " 'san',\n",
       " 'there',\n",
       " 'between',\n",
       " 'hit',\n",
       " 'plan',\n",
       " 'say',\n",
       " 'series',\n",
       " 'still',\n",
       " 'london',\n",
       " 'high',\n",
       " 'largest',\n",
       " 'baghdad',\n",
       " 'expected',\n",
       " 'industry',\n",
       " 'big',\n",
       " 'election',\n",
       " 'mobile',\n",
       " 'them',\n",
       " 'giant',\n",
       " 'five',\n",
       " '5',\n",
       " 'way',\n",
       " 'growth',\n",
       " 'since',\n",
       " 'through',\n",
       " 'investor',\n",
       " 'services',\n",
       " '//www',\n",
       " 'her',\n",
       " '/a&gt',\n",
       " 'early',\n",
       " 'href=http',\n",
       " '4',\n",
       " 'quarter',\n",
       " 'sports',\n",
       " 'wireless',\n",
       " 'system',\n",
       " 'data',\n",
       " 'north',\n",
       " 'under',\n",
       " 'trade',\n",
       " 'war',\n",
       " 'australia',\n",
       " 'earnings',\n",
       " 'dollar',\n",
       " 'military',\n",
       " 'buy',\n",
       " 'cut',\n",
       " 'gold',\n",
       " 'being',\n",
       " 'union',\n",
       " 'nuclear',\n",
       " 'higher',\n",
       " 'john',\n",
       " 'i',\n",
       " 'him',\n",
       " 'move',\n",
       " 'phone',\n",
       " 'un',\n",
       " 'only',\n",
       " 'players',\n",
       " 'test',\n",
       " 'start',\n",
       " 'left',\n",
       " 'amp',\n",
       " 'official',\n",
       " 'stock',\n",
       " 'apple',\n",
       " 'loss',\n",
       " 'palestinian',\n",
       " 'agreed',\n",
       " 'months',\n",
       " 'sox',\n",
       " 'days',\n",
       " 'because',\n",
       " 'so',\n",
       " '7',\n",
       " 'attack',\n",
       " 'many',\n",
       " 'latest',\n",
       " 'aspx',\n",
       " 'com/fullquote',\n",
       " 'target=/stocks/quickinfo/fullquote&gt',\n",
       " 'troops',\n",
       " 'oracle',\n",
       " 'olympic',\n",
       " 'windows',\n",
       " 'england',\n",
       " 'global',\n",
       " 'like',\n",
       " 'intel',\n",
       " 'russia',\n",
       " 'firm',\n",
       " 'israeli',\n",
       " 'gaza',\n",
       " 'air',\n",
       " 'rose',\n",
       " 'again',\n",
       " 'found',\n",
       " 'executive',\n",
       " 'press',\n",
       " 'jobs',\n",
       " 'west',\n",
       " 'even',\n",
       " 'users',\n",
       " 'general',\n",
       " 'including',\n",
       " 'man',\n",
       " 'play',\n",
       " 'reports',\n",
       " 'rise',\n",
       " 'iran',\n",
       " 'update',\n",
       " 'football',\n",
       " 'price',\n",
       " 'boston',\n",
       " 'released',\n",
       " 'despite',\n",
       " 'points',\n",
       " 'economy',\n",
       " 'drug',\n",
       " 'ago',\n",
       " 'ahead',\n",
       " 'athens',\n",
       " 'forces',\n",
       " 'past',\n",
       " 'pay',\n",
       " 'near',\n",
       " 'biggest',\n",
       " 'how',\n",
       " 'europe',\n",
       " 'part',\n",
       " 'investors',\n",
       " 'peace',\n",
       " 'release',\n",
       " 'go',\n",
       " 'canadian',\n",
       " 'economic',\n",
       " 'six',\n",
       " 'head',\n",
       " 'peoplesoft',\n",
       " 'car',\n",
       " 'russian',\n",
       " 'o',\n",
       " 'key',\n",
       " 'offer',\n",
       " 'street',\n",
       " 'beat',\n",
       " 'work',\n",
       " 'your',\n",
       " 'free',\n",
       " 'pakistan',\n",
       " 'held',\n",
       " 'case',\n",
       " 'use',\n",
       " 'eu',\n",
       " 'public',\n",
       " 'strong',\n",
       " 'uk',\n",
       " '2005',\n",
       " 'power',\n",
       " 'much',\n",
       " 'where',\n",
       " 'title',\n",
       " 'run',\n",
       " 'should',\n",
       " 'weeks',\n",
       " '6',\n",
       " 'foreign',\n",
       " 'nearly',\n",
       " 'video',\n",
       " 'presidential',\n",
       " 'workers',\n",
       " 'bomb',\n",
       " 'wins',\n",
       " 'america',\n",
       " 'pc',\n",
       " 'attacks',\n",
       " 'tokyo',\n",
       " 'nation',\n",
       " 'israel',\n",
       " 'systems',\n",
       " 'nations',\n",
       " 'share',\n",
       " 'support',\n",
       " 'financial',\n",
       " 'close',\n",
       " 'nasa',\n",
       " 'sun',\n",
       " 'championship',\n",
       " 'contract',\n",
       " 'media',\n",
       " 'korea',\n",
       " 'launch',\n",
       " 'agency',\n",
       " 'do',\n",
       " 'australian',\n",
       " 'st',\n",
       " 'round',\n",
       " 'fall',\n",
       " 'kerry',\n",
       " 'leaders',\n",
       " 'put',\n",
       " 'wall',\n",
       " 'french',\n",
       " 'men',\n",
       " 'linux',\n",
       " 'around',\n",
       " 'house',\n",
       " 'number',\n",
       " 'francisco',\n",
       " 'fell',\n",
       " 'called',\n",
       " '8',\n",
       " 'long',\n",
       " 'took',\n",
       " 'player',\n",
       " 'face',\n",
       " 'digital',\n",
       " 'death',\n",
       " 'lower',\n",
       " 'september',\n",
       " 'october',\n",
       " '20',\n",
       " 'crude',\n",
       " 'scientists',\n",
       " 'net',\n",
       " 'used',\n",
       " 'also',\n",
       " 'any',\n",
       " 'following',\n",
       " 'florida',\n",
       " 'killing',\n",
       " 'chicago',\n",
       " 'job',\n",
       " 'good',\n",
       " 'darfur',\n",
       " 'return',\n",
       " 'leading',\n",
       " 'arafat',\n",
       " '#36',\n",
       " 'late',\n",
       " 'program',\n",
       " 'rival',\n",
       " 'seven',\n",
       " '11',\n",
       " 'version',\n",
       " 'here',\n",
       " 'army',\n",
       " 'capital',\n",
       " 'charges',\n",
       " 'right',\n",
       " 'keep',\n",
       " 'life',\n",
       " 'consumer',\n",
       " 'agreement',\n",
       " 'quote',\n",
       " 'commission',\n",
       " 'demand',\n",
       " 'both',\n",
       " 'campaign',\n",
       " 'future',\n",
       " 'bill',\n",
       " 'japanese',\n",
       " 'trial',\n",
       " 'race',\n",
       " 'france',\n",
       " 'center',\n",
       " 'vote',\n",
       " 'hurricane',\n",
       " 'yankees',\n",
       " 'party',\n",
       " 'site',\n",
       " 'n&lt',\n",
       " 'best',\n",
       " 'strike',\n",
       " 'give',\n",
       " 'region',\n",
       " 'products',\n",
       " 'we',\n",
       " 'dead',\n",
       " 'women',\n",
       " 'britain',\n",
       " 'half',\n",
       " 'per',\n",
       " 'board',\n",
       " 'might',\n",
       " '12',\n",
       " 'customers',\n",
       " 'show',\n",
       " 'several',\n",
       " 'away',\n",
       " 'battle',\n",
       " 'results',\n",
       " 'conference',\n",
       " 'study',\n",
       " 'decision',\n",
       " 'defense',\n",
       " 'fourth',\n",
       " 'manager',\n",
       " 'november',\n",
       " 'northern',\n",
       " 'meeting',\n",
       " 'costs',\n",
       " 'without',\n",
       " 'militants',\n",
       " 'chip',\n",
       " 'gets',\n",
       " 'office',\n",
       " 'southern',\n",
       " 'line',\n",
       " 'sony',\n",
       " 'takes',\n",
       " 'political',\n",
       " 'sudan',\n",
       " 'management',\n",
       " 'champions',\n",
       " 'elections',\n",
       " 'school',\n",
       " 'energy',\n",
       " 'little',\n",
       " 'recent',\n",
       " 'champion',\n",
       " 'cuts',\n",
       " 'judge',\n",
       " 'due',\n",
       " 'baseball',\n",
       " 'fight',\n",
       " 'central',\n",
       " 'profile',\n",
       " 'california',\n",
       " 'such',\n",
       " 'hopes',\n",
       " '9',\n",
       " 'sell',\n",
       " 'fans',\n",
       " 'making',\n",
       " 'hostage',\n",
       " 'canada',\n",
       " 'force',\n",
       " 'she',\n",
       " 'told',\n",
       " '30',\n",
       " 'claims',\n",
       " 'health',\n",
       " 'quarterly',\n",
       " 'los',\n",
       " 'field',\n",
       " '\\\\$1',\n",
       " 'department',\n",
       " 'michael',\n",
       " 'straight',\n",
       " 'whether',\n",
       " 'place',\n",
       " 'well',\n",
       " 'interest',\n",
       " 'giants',\n",
       " 'scored',\n",
       " 'third-quarter',\n",
       " 'likely',\n",
       " 'increase',\n",
       " 'grand',\n",
       " 'using',\n",
       " 'ceo',\n",
       " '15',\n",
       " 'real',\n",
       " 'm',\n",
       " 'across',\n",
       " 'university',\n",
       " 'own',\n",
       " 'running',\n",
       " 'amid',\n",
       " 'mark',\n",
       " 'become',\n",
       " 'lost',\n",
       " 'saying',\n",
       " 'club',\n",
       " 'tv',\n",
       " 'winning',\n",
       " 'taking',\n",
       " 'angeles',\n",
       " 'launched',\n",
       " 'history',\n",
       " 'rates',\n",
       " 'look',\n",
       " 'times',\n",
       " 'source',\n",
       " 'star',\n",
       " 'unit',\n",
       " 'tax',\n",
       " 'violence',\n",
       " 'weekend',\n",
       " 'match',\n",
       " 'texas',\n",
       " 'chinese',\n",
       " '0',\n",
       " 'hits',\n",
       " 'chairman',\n",
       " 'east',\n",
       " 'stores',\n",
       " 'among',\n",
       " 'houston',\n",
       " 'eight',\n",
       " 'germany',\n",
       " 'server',\n",
       " 'trading',\n",
       " 'too',\n",
       " 'oct',\n",
       " 'small',\n",
       " 'better',\n",
       " 'rebels',\n",
       " 'shot',\n",
       " '18',\n",
       " 'accused',\n",
       " 'control',\n",
       " 'williams',\n",
       " 'phones',\n",
       " 'rate',\n",
       " 'behind',\n",
       " 'action',\n",
       " 'change',\n",
       " 'desktop',\n",
       " 'seen',\n",
       " 'possible',\n",
       " 'come',\n",
       " 'makes',\n",
       " 'boost',\n",
       " 'profits',\n",
       " 'information',\n",
       " 'ipod',\n",
       " 'aid',\n",
       " 'injured',\n",
       " 'meet',\n",
       " 'led',\n",
       " 'hold',\n",
       " 'afghanistan',\n",
       " 'going',\n",
       " 'few',\n",
       " 'soldiers',\n",
       " 'yahoo',\n",
       " 'drop',\n",
       " 'morning',\n",
       " 'august',\n",
       " 'operating',\n",
       " 'calls',\n",
       " 'senior',\n",
       " 'tech',\n",
       " 'see',\n",
       " 'communications',\n",
       " 'did',\n",
       " 'reach',\n",
       " 'german',\n",
       " 'low',\n",
       " 'revenue',\n",
       " 'warned',\n",
       " 'call',\n",
       " 'almost',\n",
       " 'bankruptcy',\n",
       " 'thousands',\n",
       " 'exchange',\n",
       " 'rally',\n",
       " 'law',\n",
       " 'nov',\n",
       " 'airlines',\n",
       " 'paris',\n",
       " '25',\n",
       " '14',\n",
       " 'e-mail',\n",
       " 'takeover',\n",
       " 'radio',\n",
       " 'white',\n",
       " 'africa',\n",
       " 'access',\n",
       " 'those',\n",
       " 'reserve',\n",
       " 'showed',\n",
       " 'indian',\n",
       " 'stadium',\n",
       " 'cash',\n",
       " 'medal',\n",
       " 'posted',\n",
       " 'cell',\n",
       " 'gas',\n",
       " 'less',\n",
       " 'tour',\n",
       " 'afghan',\n",
       " 'yet',\n",
       " 'barrel',\n",
       " 'ready',\n",
       " 'david',\n",
       " 'forecast',\n",
       " 'production',\n",
       " 'wants',\n",
       " 'coast',\n",
       " 'fire',\n",
       " 'old',\n",
       " 'markets',\n",
       " 'got',\n",
       " 'offering',\n",
       " 'step',\n",
       " 'spain',\n",
       " 'same',\n",
       " 'engine',\n",
       " 'nfl',\n",
       " '13',\n",
       " 'division',\n",
       " 'jones',\n",
       " 'signed',\n",
       " 'television',\n",
       " 'toronto',\n",
       " 'outlook',\n",
       " 'euro',\n",
       " 'opposition',\n",
       " 'begin',\n",
       " 'must',\n",
       " 'sale',\n",
       " 'soon',\n",
       " 'stake',\n",
       " 'find',\n",
       " 'helped',\n",
       " '16',\n",
       " 'secretary',\n",
       " '100',\n",
       " 'association',\n",
       " 'al',\n",
       " 'olympics',\n",
       " 'probe',\n",
       " 'began',\n",
       " 'money',\n",
       " 'blair',\n",
       " 'earlier',\n",
       " 'came',\n",
       " 'concerns',\n",
       " 'human',\n",
       " 'ltd',\n",
       " 'sign',\n",
       " '!',\n",
       " 'fuel',\n",
       " 'stop',\n",
       " 'americans',\n",
       " 'sept',\n",
       " 'store',\n",
       " 'fund',\n",
       " 'corporate',\n",
       " 'insurance',\n",
       " 'product',\n",
       " 'gains',\n",
       " 'networks',\n",
       " 'countries',\n",
       " 'efforts',\n",
       " 'local',\n",
       " 'target',\n",
       " 'threat',\n",
       " 'opening',\n",
       " '17',\n",
       " 'green',\n",
       " 'died',\n",
       " 'legal',\n",
       " 'members',\n",
       " 'airline',\n",
       " 'african',\n",
       " 'ended',\n",
       " 'administration',\n",
       " 'already',\n",
       " 'station',\n",
       " 'cost',\n",
       " 'arrested',\n",
       " 'council',\n",
       " 'analysts',\n",
       " 'investment',\n",
       " 'need',\n",
       " 'nine',\n",
       " 'trying',\n",
       " 'within',\n",
       " 'list',\n",
       " 'competition',\n",
       " 'spending',\n",
       " 'visit',\n",
       " 'teams',\n",
       " 'continue',\n",
       " 'madrid',\n",
       " 'arsenal',\n",
       " 'great',\n",
       " 'food',\n",
       " 'rules',\n",
       " 'ever',\n",
       " 'others',\n",
       " 'airways',\n",
       " 'pm',\n",
       " 'computers',\n",
       " 'growing',\n",
       " 'terror',\n",
       " 'charged',\n",
       " 'family',\n",
       " 'personal',\n",
       " 'supply',\n",
       " 'don',\n",
       " 'hours',\n",
       " 'outside',\n",
       " 'looking',\n",
       " 'until',\n",
       " 'fighting',\n",
       " 'western',\n",
       " 'far',\n",
       " 'retail',\n",
       " 'george',\n",
       " 'heart',\n",
       " 'miami',\n",
       " 'nba',\n",
       " 'flight',\n",
       " 'authorities',\n",
       " 'enough',\n",
       " 'beijing',\n",
       " 'gave',\n",
       " 'starting',\n",
       " 'offers',\n",
       " 'once',\n",
       " 'sharon',\n",
       " 'dell',\n",
       " 'performance',\n",
       " 'black',\n",
       " 'holiday',\n",
       " 'manchester',\n",
       " 'pressure',\n",
       " 'finally',\n",
       " 'paul',\n",
       " 'toward',\n",
       " 'effort',\n",
       " 'rights',\n",
       " 'yards',\n",
       " 'reached',\n",
       " 'ruling',\n",
       " 'coming',\n",
       " 'consumers',\n",
       " 'weapons',\n",
       " 'blue',\n",
       " 'bay',\n",
       " 'executives',\n",
       " '#151',\n",
       " 'ban',\n",
       " 'development',\n",
       " 'fears',\n",
       " 'crisis',\n",
       " 'each',\n",
       " 'italian',\n",
       " 'children',\n",
       " 'sees',\n",
       " 'suicide',\n",
       " 'bowl',\n",
       " 'seattle',\n",
       " 'quarterback',\n",
       " 'taken',\n",
       " 'charge',\n",
       " 'devices',\n",
       " 'drive',\n",
       " 'retailer',\n",
       " 'getting',\n",
       " 'aimed',\n",
       " 'cisco',\n",
       " 'popular',\n",
       " '19',\n",
       " 'failed',\n",
       " 'survey',\n",
       " 'then',\n",
       " 'yukos',\n",
       " 'operations',\n",
       " 'labor',\n",
       " 'push',\n",
       " 'shows',\n",
       " 'problems',\n",
       " 'kill',\n",
       " 'blast',\n",
       " 'continued',\n",
       " 'd',\n",
       " 'researchers',\n",
       " 'injury',\n",
       " 'ivan',\n",
       " 'main',\n",
       " 'college',\n",
       " 'electronics',\n",
       " 'further',\n",
       " 'basketball',\n",
       " 'hope',\n",
       " 'yasser',\n",
       " 'rebel',\n",
       " 'storm',\n",
       " 'soccer',\n",
       " 'want',\n",
       " 'rising',\n",
       " 'davis',\n",
       " 'policy',\n",
       " 'rivals',\n",
       " 'filed',\n",
       " 'focus',\n",
       " 'missing',\n",
       " 'palestinians',\n",
       " 'calif',\n",
       " 'fraud',\n",
       " 'kills',\n",
       " 'hard',\n",
       " 'powerful',\n",
       " 'private',\n",
       " 'moscow',\n",
       " 'raised',\n",
       " 'working',\n",
       " 'suspected',\n",
       " 'defeat',\n",
       " 'leave',\n",
       " 'challenge',\n",
       " 'faces',\n",
       " 'firms',\n",
       " 'turn',\n",
       " 'warning',\n",
       " 'chips',\n",
       " 'side',\n",
       " 'signs',\n",
       " 'merger',\n",
       " 'above',\n",
       " 'asian',\n",
       " 'selling',\n",
       " 'winter',\n",
       " 'short',\n",
       " 'atlanta',\n",
       " 'name',\n",
       " 'mission',\n",
       " 'p',\n",
       " 'designed',\n",
       " 'career',\n",
       " 'annual',\n",
       " 'park',\n",
       " 'point',\n",
       " '2006',\n",
       " 'goal',\n",
       " 'investigation',\n",
       " 'try',\n",
       " 'risk',\n",
       " 'issue',\n",
       " 'dollars',\n",
       " 'staff',\n",
       " 'went',\n",
       " 'named',\n",
       " 'allow',\n",
       " 'chance',\n",
       " 'satellite',\n",
       " 'never',\n",
       " 'planned',\n",
       " '50',\n",
       " 'delta',\n",
       " 'debt',\n",
       " 'fresh',\n",
       " 'issues',\n",
       " 'large',\n",
       " 'tony',\n",
       " 'lawsuit',\n",
       " 'sold',\n",
       " 'area',\n",
       " 'asia',\n",
       " 'businesses',\n",
       " 'c',\n",
       " 'fired',\n",
       " 'full',\n",
       " 'storage',\n",
       " 'provide',\n",
       " 'expectations',\n",
       " '24',\n",
       " 'xp',\n",
       " 'nokia',\n",
       " 'town',\n",
       " '21',\n",
       " ...]"
      ]
     },
     "execution_count": 11,
     "metadata": {},
     "output_type": "execute_result"
    }
   ],
   "source": [
    "vocab.get_itos()"
   ]
  },
  {
   "cell_type": "code",
   "execution_count": 25,
   "metadata": {},
   "outputs": [],
   "source": [
    "text_transform = T.Sequential(\n",
    "    T.VocabTransform(vocab = vocab),\n",
    "    T.AddToken(1, begin=True),\n",
    "    T.Truncate(max_seq_len=max_len),\n",
    "    T.AddToken(2, begin=False),\n",
    "    T.ToTensor(padding_value=0)\n",
    "\n",
    ")"
   ]
  },
  {
   "cell_type": "code",
   "execution_count": 13,
   "metadata": {},
   "outputs": [],
   "source": [
    "text_tokenizer = lambda batch: [tokenizer(x) for x in batch]\n",
    "data_loader_train = DataLoader(dataset_train, batch_size = batch_size, shuffle =True, num_workers=4, drop_last=True)\n",
    "data_loader_test = DataLoader(dataset_test, batch_size = batch_size, shuffle =True, num_workers=4)"
   ]
  },
  {
   "cell_type": "code",
   "execution_count": 15,
   "metadata": {},
   "outputs": [],
   "source": [
    "class LSTM(nn.Module):\n",
    "    def __init__(self,  embedding_size, output_size, num_layers=1, hidden_size = 128):\n",
    "        super(LSTM, self).__init__()\n",
    "        self.embedding = nn.Embedding(embedding_size, hidden_size)\n",
    "        self.lstm = nn.LSTM(input_size = hidden_size, hidden_size = hidden_size,\n",
    "                            num_layers = num_layers, batch_first = True, dropout = 0.5)\n",
    "        \n",
    "        self.fc_out = nn.Linear(hidden_size, output_size)\n",
    "\n",
    "    def forward(self, input_seq, hidden_in, mem_in):\n",
    "        input_embeds = self.embedding(input_seq)\n",
    "        output, (hidden_out, mem_out) = self.lstm(input_embeds, (hidden_in, mem_in))\n",
    "        return self.fc_out(output), hidden_out, mem_out\n",
    "\n",
    "\n"
   ]
  },
  {
   "cell_type": "code",
   "execution_count": 17,
   "metadata": {},
   "outputs": [],
   "source": [
    "device = torch.device('gpu' if torch.cuda.is_available() else 'cpu')"
   ]
  },
  {
   "cell_type": "code",
   "execution_count": 18,
   "metadata": {},
   "outputs": [
    {
     "data": {
      "text/plain": [
       "device(type='cpu')"
      ]
     },
     "execution_count": 18,
     "metadata": {},
     "output_type": "execute_result"
    }
   ],
   "source": [
    "device"
   ]
  },
  {
   "cell_type": "code",
   "execution_count": 20,
   "metadata": {},
   "outputs": [],
   "source": [
    "hidden_size = 64\n",
    "num_layers = 3\n",
    "\n",
    "lstm_classifier = LSTM(embedding_size = len(vocab), output_size= 4, \n",
    "                       num_layers= num_layers, hidden_size= hidden_size).to(device)\n",
    "\n",
    "optimizer = optim.Adam(lstm_classifier.parameters(), lr =learning_rate)\n",
    "\n",
    "loss_fn = nn.CrossEntropyLoss()"
   ]
  },
  {
   "cell_type": "code",
   "execution_count": 22,
   "metadata": {},
   "outputs": [
    {
     "name": "stdout",
     "output_type": "stream",
     "text": [
      "-This Model Has 3500420 (Approximately 3 Million) Parameters!\n"
     ]
    }
   ],
   "source": [
    "num_model_params = 0\n",
    "for param in lstm_classifier.parameters():\n",
    "    num_model_params += param.flatten().shape[0]\n",
    "\n",
    "print(\"-This Model Has %d (Approximately %d Million) Parameters!\" % (num_model_params, num_model_params//1e6))\n"
   ]
  },
  {
   "cell_type": "code",
   "execution_count": 23,
   "metadata": {},
   "outputs": [],
   "source": [
    "training_loss_logger = []\n",
    "test_loss_logger = []\n",
    "\n",
    "training_acc_logger = []\n",
    "test_acc_logger = []"
   ]
  },
  {
   "cell_type": "code",
   "execution_count": 26,
   "metadata": {},
   "outputs": [
    {
     "data": {
      "application/vnd.jupyter.widget-view+json": {
       "model_id": "b82f691e69c1440d949c080297ec1a79",
       "version_major": 2,
       "version_minor": 0
      },
      "text/plain": [
       "Epoch:   0%|          | 0/20 [00:00<?, ?it/s]"
      ]
     },
     "metadata": {},
     "output_type": "display_data"
    },
    {
     "data": {
      "application/vnd.jupyter.widget-view+json": {
       "model_id": "f5bb74305cb8492db9eee3f4c92494b4",
       "version_major": 2,
       "version_minor": 0
      },
      "text/plain": [
       "Training: 0it [00:00, ?it/s]"
      ]
     },
     "metadata": {},
     "output_type": "display_data"
    },
    {
     "name": "stderr",
     "output_type": "stream",
     "text": [
      "/Users/harshayarravarapu/Library/Python/3.9/lib/python/site-packages/torch/utils/data/datapipes/iter/combining.py:337: UserWarning: Some child DataPipes are not exhausted when __iter__ is called. We are resetting the buffer and each child DataPipe will read from the start again.\n",
      "  warnings.warn(\"Some child DataPipes are not exhausted when __iter__ is called. We are resetting \"\n",
      "/Users/harshayarravarapu/Library/Python/3.9/lib/python/site-packages/torch/utils/data/datapipes/iter/combining.py:337: UserWarning: Some child DataPipes are not exhausted when __iter__ is called. We are resetting the buffer and each child DataPipe will read from the start again.\n",
      "  warnings.warn(\"Some child DataPipes are not exhausted when __iter__ is called. We are resetting \"\n",
      "/Users/harshayarravarapu/Library/Python/3.9/lib/python/site-packages/torch/utils/data/datapipes/iter/combining.py:337: UserWarning: Some child DataPipes are not exhausted when __iter__ is called. We are resetting the buffer and each child DataPipe will read from the start again.\n",
      "  warnings.warn(\"Some child DataPipes are not exhausted when __iter__ is called. We are resetting \"\n",
      "/Users/harshayarravarapu/Library/Python/3.9/lib/python/site-packages/torch/utils/data/datapipes/iter/combining.py:337: UserWarning: Some child DataPipes are not exhausted when __iter__ is called. We are resetting the buffer and each child DataPipe will read from the start again.\n",
      "  warnings.warn(\"Some child DataPipes are not exhausted when __iter__ is called. We are resetting \"\n"
     ]
    },
    {
     "data": {
      "application/vnd.jupyter.widget-view+json": {
       "model_id": "ed8d745db8244b90aa6159a5b1cb9c90",
       "version_major": 2,
       "version_minor": 0
      },
      "text/plain": [
       "Testing: 0it [00:00, ?it/s]"
      ]
     },
     "metadata": {},
     "output_type": "display_data"
    },
    {
     "data": {
      "application/vnd.jupyter.widget-view+json": {
       "model_id": "01243c267e0749a6b8cd178f05c779f2",
       "version_major": 2,
       "version_minor": 0
      },
      "text/plain": [
       "Training: 0it [00:00, ?it/s]"
      ]
     },
     "metadata": {},
     "output_type": "display_data"
    },
    {
     "name": "stderr",
     "output_type": "stream",
     "text": [
      "/Users/harshayarravarapu/Library/Python/3.9/lib/python/site-packages/torch/utils/data/datapipes/iter/combining.py:337: UserWarning: Some child DataPipes are not exhausted when __iter__ is called. We are resetting the buffer and each child DataPipe will read from the start again.\n",
      "  warnings.warn(\"Some child DataPipes are not exhausted when __iter__ is called. We are resetting \"\n",
      "/Users/harshayarravarapu/Library/Python/3.9/lib/python/site-packages/torch/utils/data/datapipes/iter/combining.py:337: UserWarning: Some child DataPipes are not exhausted when __iter__ is called. We are resetting the buffer and each child DataPipe will read from the start again.\n",
      "  warnings.warn(\"Some child DataPipes are not exhausted when __iter__ is called. We are resetting \"\n",
      "/Users/harshayarravarapu/Library/Python/3.9/lib/python/site-packages/torch/utils/data/datapipes/iter/combining.py:337: UserWarning: Some child DataPipes are not exhausted when __iter__ is called. We are resetting the buffer and each child DataPipe will read from the start again.\n",
      "  warnings.warn(\"Some child DataPipes are not exhausted when __iter__ is called. We are resetting \"\n",
      "/Users/harshayarravarapu/Library/Python/3.9/lib/python/site-packages/torch/utils/data/datapipes/iter/combining.py:337: UserWarning: Some child DataPipes are not exhausted when __iter__ is called. We are resetting the buffer and each child DataPipe will read from the start again.\n",
      "  warnings.warn(\"Some child DataPipes are not exhausted when __iter__ is called. We are resetting \"\n"
     ]
    },
    {
     "data": {
      "application/vnd.jupyter.widget-view+json": {
       "model_id": "8d9a232d0f2344cb8dd5c7daccec0b02",
       "version_major": 2,
       "version_minor": 0
      },
      "text/plain": [
       "Testing: 0it [00:00, ?it/s]"
      ]
     },
     "metadata": {},
     "output_type": "display_data"
    },
    {
     "data": {
      "application/vnd.jupyter.widget-view+json": {
       "model_id": "e9898b6979f44957920367a88ed0cecc",
       "version_major": 2,
       "version_minor": 0
      },
      "text/plain": [
       "Training: 0it [00:00, ?it/s]"
      ]
     },
     "metadata": {},
     "output_type": "display_data"
    },
    {
     "name": "stderr",
     "output_type": "stream",
     "text": [
      "/Users/harshayarravarapu/Library/Python/3.9/lib/python/site-packages/torch/utils/data/datapipes/iter/combining.py:337: UserWarning: Some child DataPipes are not exhausted when __iter__ is called. We are resetting the buffer and each child DataPipe will read from the start again.\n",
      "  warnings.warn(\"Some child DataPipes are not exhausted when __iter__ is called. We are resetting \"\n",
      "/Users/harshayarravarapu/Library/Python/3.9/lib/python/site-packages/torch/utils/data/datapipes/iter/combining.py:337: UserWarning: Some child DataPipes are not exhausted when __iter__ is called. We are resetting the buffer and each child DataPipe will read from the start again.\n",
      "  warnings.warn(\"Some child DataPipes are not exhausted when __iter__ is called. We are resetting \"\n",
      "/Users/harshayarravarapu/Library/Python/3.9/lib/python/site-packages/torch/utils/data/datapipes/iter/combining.py:337: UserWarning: Some child DataPipes are not exhausted when __iter__ is called. We are resetting the buffer and each child DataPipe will read from the start again.\n",
      "  warnings.warn(\"Some child DataPipes are not exhausted when __iter__ is called. We are resetting \"\n",
      "/Users/harshayarravarapu/Library/Python/3.9/lib/python/site-packages/torch/utils/data/datapipes/iter/combining.py:337: UserWarning: Some child DataPipes are not exhausted when __iter__ is called. We are resetting the buffer and each child DataPipe will read from the start again.\n",
      "  warnings.warn(\"Some child DataPipes are not exhausted when __iter__ is called. We are resetting \"\n"
     ]
    },
    {
     "data": {
      "application/vnd.jupyter.widget-view+json": {
       "model_id": "e968c42830e34bc0955647bd247fdaee",
       "version_major": 2,
       "version_minor": 0
      },
      "text/plain": [
       "Testing: 0it [00:00, ?it/s]"
      ]
     },
     "metadata": {},
     "output_type": "display_data"
    },
    {
     "data": {
      "application/vnd.jupyter.widget-view+json": {
       "model_id": "b4b789d0bbc5451c85ab7c0c8b2b2829",
       "version_major": 2,
       "version_minor": 0
      },
      "text/plain": [
       "Training: 0it [00:00, ?it/s]"
      ]
     },
     "metadata": {},
     "output_type": "display_data"
    },
    {
     "name": "stderr",
     "output_type": "stream",
     "text": [
      "/Users/harshayarravarapu/Library/Python/3.9/lib/python/site-packages/torch/utils/data/datapipes/iter/combining.py:337: UserWarning: Some child DataPipes are not exhausted when __iter__ is called. We are resetting the buffer and each child DataPipe will read from the start again.\n",
      "  warnings.warn(\"Some child DataPipes are not exhausted when __iter__ is called. We are resetting \"\n",
      "/Users/harshayarravarapu/Library/Python/3.9/lib/python/site-packages/torch/utils/data/datapipes/iter/combining.py:337: UserWarning: Some child DataPipes are not exhausted when __iter__ is called. We are resetting the buffer and each child DataPipe will read from the start again.\n",
      "  warnings.warn(\"Some child DataPipes are not exhausted when __iter__ is called. We are resetting \"\n",
      "/Users/harshayarravarapu/Library/Python/3.9/lib/python/site-packages/torch/utils/data/datapipes/iter/combining.py:337: UserWarning: Some child DataPipes are not exhausted when __iter__ is called. We are resetting the buffer and each child DataPipe will read from the start again.\n",
      "  warnings.warn(\"Some child DataPipes are not exhausted when __iter__ is called. We are resetting \"\n",
      "/Users/harshayarravarapu/Library/Python/3.9/lib/python/site-packages/torch/utils/data/datapipes/iter/combining.py:337: UserWarning: Some child DataPipes are not exhausted when __iter__ is called. We are resetting the buffer and each child DataPipe will read from the start again.\n",
      "  warnings.warn(\"Some child DataPipes are not exhausted when __iter__ is called. We are resetting \"\n"
     ]
    },
    {
     "data": {
      "application/vnd.jupyter.widget-view+json": {
       "model_id": "f7e9dd79c5a548f1ba30499116715343",
       "version_major": 2,
       "version_minor": 0
      },
      "text/plain": [
       "Testing: 0it [00:00, ?it/s]"
      ]
     },
     "metadata": {},
     "output_type": "display_data"
    },
    {
     "data": {
      "application/vnd.jupyter.widget-view+json": {
       "model_id": "f9333280cf7743e896cc6f5d86aadace",
       "version_major": 2,
       "version_minor": 0
      },
      "text/plain": [
       "Training: 0it [00:00, ?it/s]"
      ]
     },
     "metadata": {},
     "output_type": "display_data"
    },
    {
     "name": "stderr",
     "output_type": "stream",
     "text": [
      "/Users/harshayarravarapu/Library/Python/3.9/lib/python/site-packages/torch/utils/data/datapipes/iter/combining.py:337: UserWarning: Some child DataPipes are not exhausted when __iter__ is called. We are resetting the buffer and each child DataPipe will read from the start again.\n",
      "  warnings.warn(\"Some child DataPipes are not exhausted when __iter__ is called. We are resetting \"\n",
      "/Users/harshayarravarapu/Library/Python/3.9/lib/python/site-packages/torch/utils/data/datapipes/iter/combining.py:337: UserWarning: Some child DataPipes are not exhausted when __iter__ is called. We are resetting the buffer and each child DataPipe will read from the start again.\n",
      "  warnings.warn(\"Some child DataPipes are not exhausted when __iter__ is called. We are resetting \"\n",
      "/Users/harshayarravarapu/Library/Python/3.9/lib/python/site-packages/torch/utils/data/datapipes/iter/combining.py:337: UserWarning: Some child DataPipes are not exhausted when __iter__ is called. We are resetting the buffer and each child DataPipe will read from the start again.\n",
      "  warnings.warn(\"Some child DataPipes are not exhausted when __iter__ is called. We are resetting \"\n",
      "/Users/harshayarravarapu/Library/Python/3.9/lib/python/site-packages/torch/utils/data/datapipes/iter/combining.py:337: UserWarning: Some child DataPipes are not exhausted when __iter__ is called. We are resetting the buffer and each child DataPipe will read from the start again.\n",
      "  warnings.warn(\"Some child DataPipes are not exhausted when __iter__ is called. We are resetting \"\n"
     ]
    },
    {
     "data": {
      "application/vnd.jupyter.widget-view+json": {
       "model_id": "28adb3bb86504f36be68ee54124f205c",
       "version_major": 2,
       "version_minor": 0
      },
      "text/plain": [
       "Testing: 0it [00:00, ?it/s]"
      ]
     },
     "metadata": {},
     "output_type": "display_data"
    },
    {
     "data": {
      "application/vnd.jupyter.widget-view+json": {
       "model_id": "d19f568d3b9c41768475900c034811e2",
       "version_major": 2,
       "version_minor": 0
      },
      "text/plain": [
       "Training: 0it [00:00, ?it/s]"
      ]
     },
     "metadata": {},
     "output_type": "display_data"
    },
    {
     "name": "stderr",
     "output_type": "stream",
     "text": [
      "/Users/harshayarravarapu/Library/Python/3.9/lib/python/site-packages/torch/utils/data/datapipes/iter/combining.py:337: UserWarning: Some child DataPipes are not exhausted when __iter__ is called. We are resetting the buffer and each child DataPipe will read from the start again.\n",
      "  warnings.warn(\"Some child DataPipes are not exhausted when __iter__ is called. We are resetting \"\n",
      "/Users/harshayarravarapu/Library/Python/3.9/lib/python/site-packages/torch/utils/data/datapipes/iter/combining.py:337: UserWarning: Some child DataPipes are not exhausted when __iter__ is called. We are resetting the buffer and each child DataPipe will read from the start again.\n",
      "  warnings.warn(\"Some child DataPipes are not exhausted when __iter__ is called. We are resetting \"\n",
      "/Users/harshayarravarapu/Library/Python/3.9/lib/python/site-packages/torch/utils/data/datapipes/iter/combining.py:337: UserWarning: Some child DataPipes are not exhausted when __iter__ is called. We are resetting the buffer and each child DataPipe will read from the start again.\n",
      "  warnings.warn(\"Some child DataPipes are not exhausted when __iter__ is called. We are resetting \"\n",
      "/Users/harshayarravarapu/Library/Python/3.9/lib/python/site-packages/torch/utils/data/datapipes/iter/combining.py:337: UserWarning: Some child DataPipes are not exhausted when __iter__ is called. We are resetting the buffer and each child DataPipe will read from the start again.\n",
      "  warnings.warn(\"Some child DataPipes are not exhausted when __iter__ is called. We are resetting \"\n"
     ]
    },
    {
     "data": {
      "application/vnd.jupyter.widget-view+json": {
       "model_id": "3a3a1bea4d3042bb96fa7e0fe2180463",
       "version_major": 2,
       "version_minor": 0
      },
      "text/plain": [
       "Testing: 0it [00:00, ?it/s]"
      ]
     },
     "metadata": {},
     "output_type": "display_data"
    },
    {
     "data": {
      "application/vnd.jupyter.widget-view+json": {
       "model_id": "844e3b11fe81443eaa881876fe7b3fbb",
       "version_major": 2,
       "version_minor": 0
      },
      "text/plain": [
       "Training: 0it [00:00, ?it/s]"
      ]
     },
     "metadata": {},
     "output_type": "display_data"
    },
    {
     "name": "stderr",
     "output_type": "stream",
     "text": [
      "/Users/harshayarravarapu/Library/Python/3.9/lib/python/site-packages/torch/utils/data/datapipes/iter/combining.py:337: UserWarning: Some child DataPipes are not exhausted when __iter__ is called. We are resetting the buffer and each child DataPipe will read from the start again.\n",
      "  warnings.warn(\"Some child DataPipes are not exhausted when __iter__ is called. We are resetting \"\n",
      "/Users/harshayarravarapu/Library/Python/3.9/lib/python/site-packages/torch/utils/data/datapipes/iter/combining.py:337: UserWarning: Some child DataPipes are not exhausted when __iter__ is called. We are resetting the buffer and each child DataPipe will read from the start again.\n",
      "  warnings.warn(\"Some child DataPipes are not exhausted when __iter__ is called. We are resetting \"\n",
      "/Users/harshayarravarapu/Library/Python/3.9/lib/python/site-packages/torch/utils/data/datapipes/iter/combining.py:337: UserWarning: Some child DataPipes are not exhausted when __iter__ is called. We are resetting the buffer and each child DataPipe will read from the start again.\n",
      "  warnings.warn(\"Some child DataPipes are not exhausted when __iter__ is called. We are resetting \"\n",
      "/Users/harshayarravarapu/Library/Python/3.9/lib/python/site-packages/torch/utils/data/datapipes/iter/combining.py:337: UserWarning: Some child DataPipes are not exhausted when __iter__ is called. We are resetting the buffer and each child DataPipe will read from the start again.\n",
      "  warnings.warn(\"Some child DataPipes are not exhausted when __iter__ is called. We are resetting \"\n"
     ]
    },
    {
     "data": {
      "application/vnd.jupyter.widget-view+json": {
       "model_id": "24234133dffe41c4af56b7ef6b39a9ec",
       "version_major": 2,
       "version_minor": 0
      },
      "text/plain": [
       "Testing: 0it [00:00, ?it/s]"
      ]
     },
     "metadata": {},
     "output_type": "display_data"
    },
    {
     "data": {
      "application/vnd.jupyter.widget-view+json": {
       "model_id": "bc2259603db7442e8f642fd90bbea2d8",
       "version_major": 2,
       "version_minor": 0
      },
      "text/plain": [
       "Training: 0it [00:00, ?it/s]"
      ]
     },
     "metadata": {},
     "output_type": "display_data"
    },
    {
     "name": "stderr",
     "output_type": "stream",
     "text": [
      "/Users/harshayarravarapu/Library/Python/3.9/lib/python/site-packages/torch/utils/data/datapipes/iter/combining.py:337: UserWarning: Some child DataPipes are not exhausted when __iter__ is called. We are resetting the buffer and each child DataPipe will read from the start again.\n",
      "  warnings.warn(\"Some child DataPipes are not exhausted when __iter__ is called. We are resetting \"\n",
      "/Users/harshayarravarapu/Library/Python/3.9/lib/python/site-packages/torch/utils/data/datapipes/iter/combining.py:337: UserWarning: Some child DataPipes are not exhausted when __iter__ is called. We are resetting the buffer and each child DataPipe will read from the start again.\n",
      "  warnings.warn(\"Some child DataPipes are not exhausted when __iter__ is called. We are resetting \"\n",
      "/Users/harshayarravarapu/Library/Python/3.9/lib/python/site-packages/torch/utils/data/datapipes/iter/combining.py:337: UserWarning: Some child DataPipes are not exhausted when __iter__ is called. We are resetting the buffer and each child DataPipe will read from the start again.\n",
      "  warnings.warn(\"Some child DataPipes are not exhausted when __iter__ is called. We are resetting \"\n",
      "/Users/harshayarravarapu/Library/Python/3.9/lib/python/site-packages/torch/utils/data/datapipes/iter/combining.py:337: UserWarning: Some child DataPipes are not exhausted when __iter__ is called. We are resetting the buffer and each child DataPipe will read from the start again.\n",
      "  warnings.warn(\"Some child DataPipes are not exhausted when __iter__ is called. We are resetting \"\n"
     ]
    },
    {
     "data": {
      "application/vnd.jupyter.widget-view+json": {
       "model_id": "b83265624aaf4d47aba843752f94289b",
       "version_major": 2,
       "version_minor": 0
      },
      "text/plain": [
       "Testing: 0it [00:00, ?it/s]"
      ]
     },
     "metadata": {},
     "output_type": "display_data"
    },
    {
     "data": {
      "application/vnd.jupyter.widget-view+json": {
       "model_id": "bad0038977184c86a66ac201a18a5e23",
       "version_major": 2,
       "version_minor": 0
      },
      "text/plain": [
       "Training: 0it [00:00, ?it/s]"
      ]
     },
     "metadata": {},
     "output_type": "display_data"
    },
    {
     "name": "stderr",
     "output_type": "stream",
     "text": [
      "/Users/harshayarravarapu/Library/Python/3.9/lib/python/site-packages/torch/utils/data/datapipes/iter/combining.py:337: UserWarning: Some child DataPipes are not exhausted when __iter__ is called. We are resetting the buffer and each child DataPipe will read from the start again.\n",
      "  warnings.warn(\"Some child DataPipes are not exhausted when __iter__ is called. We are resetting \"\n",
      "/Users/harshayarravarapu/Library/Python/3.9/lib/python/site-packages/torch/utils/data/datapipes/iter/combining.py:337: UserWarning: Some child DataPipes are not exhausted when __iter__ is called. We are resetting the buffer and each child DataPipe will read from the start again.\n",
      "  warnings.warn(\"Some child DataPipes are not exhausted when __iter__ is called. We are resetting \"\n",
      "/Users/harshayarravarapu/Library/Python/3.9/lib/python/site-packages/torch/utils/data/datapipes/iter/combining.py:337: UserWarning: Some child DataPipes are not exhausted when __iter__ is called. We are resetting the buffer and each child DataPipe will read from the start again.\n",
      "  warnings.warn(\"Some child DataPipes are not exhausted when __iter__ is called. We are resetting \"\n",
      "/Users/harshayarravarapu/Library/Python/3.9/lib/python/site-packages/torch/utils/data/datapipes/iter/combining.py:337: UserWarning: Some child DataPipes are not exhausted when __iter__ is called. We are resetting the buffer and each child DataPipe will read from the start again.\n",
      "  warnings.warn(\"Some child DataPipes are not exhausted when __iter__ is called. We are resetting \"\n"
     ]
    },
    {
     "data": {
      "application/vnd.jupyter.widget-view+json": {
       "model_id": "377760d72dae4a3f92e067a034d0c816",
       "version_major": 2,
       "version_minor": 0
      },
      "text/plain": [
       "Testing: 0it [00:00, ?it/s]"
      ]
     },
     "metadata": {},
     "output_type": "display_data"
    },
    {
     "data": {
      "application/vnd.jupyter.widget-view+json": {
       "model_id": "b40c8a265685484a839241018d4e46a2",
       "version_major": 2,
       "version_minor": 0
      },
      "text/plain": [
       "Training: 0it [00:00, ?it/s]"
      ]
     },
     "metadata": {},
     "output_type": "display_data"
    },
    {
     "name": "stderr",
     "output_type": "stream",
     "text": [
      "/Users/harshayarravarapu/Library/Python/3.9/lib/python/site-packages/torch/utils/data/datapipes/iter/combining.py:337: UserWarning: Some child DataPipes are not exhausted when __iter__ is called. We are resetting the buffer and each child DataPipe will read from the start again.\n",
      "  warnings.warn(\"Some child DataPipes are not exhausted when __iter__ is called. We are resetting \"\n",
      "/Users/harshayarravarapu/Library/Python/3.9/lib/python/site-packages/torch/utils/data/datapipes/iter/combining.py:337: UserWarning: Some child DataPipes are not exhausted when __iter__ is called. We are resetting the buffer and each child DataPipe will read from the start again.\n",
      "  warnings.warn(\"Some child DataPipes are not exhausted when __iter__ is called. We are resetting \"\n",
      "/Users/harshayarravarapu/Library/Python/3.9/lib/python/site-packages/torch/utils/data/datapipes/iter/combining.py:337: UserWarning: Some child DataPipes are not exhausted when __iter__ is called. We are resetting the buffer and each child DataPipe will read from the start again.\n",
      "  warnings.warn(\"Some child DataPipes are not exhausted when __iter__ is called. We are resetting \"\n",
      "/Users/harshayarravarapu/Library/Python/3.9/lib/python/site-packages/torch/utils/data/datapipes/iter/combining.py:337: UserWarning: Some child DataPipes are not exhausted when __iter__ is called. We are resetting the buffer and each child DataPipe will read from the start again.\n",
      "  warnings.warn(\"Some child DataPipes are not exhausted when __iter__ is called. We are resetting \"\n"
     ]
    },
    {
     "data": {
      "application/vnd.jupyter.widget-view+json": {
       "model_id": "ea07d815b8d34fdfbab246d8945297b0",
       "version_major": 2,
       "version_minor": 0
      },
      "text/plain": [
       "Testing: 0it [00:00, ?it/s]"
      ]
     },
     "metadata": {},
     "output_type": "display_data"
    },
    {
     "data": {
      "application/vnd.jupyter.widget-view+json": {
       "model_id": "3f33679099da44fa92bfcd7dd2f8e25d",
       "version_major": 2,
       "version_minor": 0
      },
      "text/plain": [
       "Training: 0it [00:00, ?it/s]"
      ]
     },
     "metadata": {},
     "output_type": "display_data"
    },
    {
     "name": "stderr",
     "output_type": "stream",
     "text": [
      "/Users/harshayarravarapu/Library/Python/3.9/lib/python/site-packages/torch/utils/data/datapipes/iter/combining.py:337: UserWarning: Some child DataPipes are not exhausted when __iter__ is called. We are resetting the buffer and each child DataPipe will read from the start again.\n",
      "  warnings.warn(\"Some child DataPipes are not exhausted when __iter__ is called. We are resetting \"\n",
      "/Users/harshayarravarapu/Library/Python/3.9/lib/python/site-packages/torch/utils/data/datapipes/iter/combining.py:337: UserWarning: Some child DataPipes are not exhausted when __iter__ is called. We are resetting the buffer and each child DataPipe will read from the start again.\n",
      "  warnings.warn(\"Some child DataPipes are not exhausted when __iter__ is called. We are resetting \"\n",
      "/Users/harshayarravarapu/Library/Python/3.9/lib/python/site-packages/torch/utils/data/datapipes/iter/combining.py:337: UserWarning: Some child DataPipes are not exhausted when __iter__ is called. We are resetting the buffer and each child DataPipe will read from the start again.\n",
      "  warnings.warn(\"Some child DataPipes are not exhausted when __iter__ is called. We are resetting \"\n",
      "/Users/harshayarravarapu/Library/Python/3.9/lib/python/site-packages/torch/utils/data/datapipes/iter/combining.py:337: UserWarning: Some child DataPipes are not exhausted when __iter__ is called. We are resetting the buffer and each child DataPipe will read from the start again.\n",
      "  warnings.warn(\"Some child DataPipes are not exhausted when __iter__ is called. We are resetting \"\n"
     ]
    },
    {
     "data": {
      "application/vnd.jupyter.widget-view+json": {
       "model_id": "199a2653fda2421a95237ea296b345e9",
       "version_major": 2,
       "version_minor": 0
      },
      "text/plain": [
       "Testing: 0it [00:00, ?it/s]"
      ]
     },
     "metadata": {},
     "output_type": "display_data"
    },
    {
     "data": {
      "application/vnd.jupyter.widget-view+json": {
       "model_id": "f6b88028e9eb41c29a5a1183552e1c9c",
       "version_major": 2,
       "version_minor": 0
      },
      "text/plain": [
       "Training: 0it [00:00, ?it/s]"
      ]
     },
     "metadata": {},
     "output_type": "display_data"
    },
    {
     "name": "stderr",
     "output_type": "stream",
     "text": [
      "/Users/harshayarravarapu/Library/Python/3.9/lib/python/site-packages/torch/utils/data/datapipes/iter/combining.py:337: UserWarning: Some child DataPipes are not exhausted when __iter__ is called. We are resetting the buffer and each child DataPipe will read from the start again.\n",
      "  warnings.warn(\"Some child DataPipes are not exhausted when __iter__ is called. We are resetting \"\n",
      "/Users/harshayarravarapu/Library/Python/3.9/lib/python/site-packages/torch/utils/data/datapipes/iter/combining.py:337: UserWarning: Some child DataPipes are not exhausted when __iter__ is called. We are resetting the buffer and each child DataPipe will read from the start again.\n",
      "  warnings.warn(\"Some child DataPipes are not exhausted when __iter__ is called. We are resetting \"\n",
      "/Users/harshayarravarapu/Library/Python/3.9/lib/python/site-packages/torch/utils/data/datapipes/iter/combining.py:337: UserWarning: Some child DataPipes are not exhausted when __iter__ is called. We are resetting the buffer and each child DataPipe will read from the start again.\n",
      "  warnings.warn(\"Some child DataPipes are not exhausted when __iter__ is called. We are resetting \"\n",
      "/Users/harshayarravarapu/Library/Python/3.9/lib/python/site-packages/torch/utils/data/datapipes/iter/combining.py:337: UserWarning: Some child DataPipes are not exhausted when __iter__ is called. We are resetting the buffer and each child DataPipe will read from the start again.\n",
      "  warnings.warn(\"Some child DataPipes are not exhausted when __iter__ is called. We are resetting \"\n"
     ]
    },
    {
     "data": {
      "application/vnd.jupyter.widget-view+json": {
       "model_id": "91032ecbcf7a47eb87bc56f7b1973c7c",
       "version_major": 2,
       "version_minor": 0
      },
      "text/plain": [
       "Testing: 0it [00:00, ?it/s]"
      ]
     },
     "metadata": {},
     "output_type": "display_data"
    },
    {
     "data": {
      "application/vnd.jupyter.widget-view+json": {
       "model_id": "8abdf436ea7040a08baaaaf1fb985b62",
       "version_major": 2,
       "version_minor": 0
      },
      "text/plain": [
       "Training: 0it [00:00, ?it/s]"
      ]
     },
     "metadata": {},
     "output_type": "display_data"
    },
    {
     "name": "stderr",
     "output_type": "stream",
     "text": [
      "/Users/harshayarravarapu/Library/Python/3.9/lib/python/site-packages/torch/utils/data/datapipes/iter/combining.py:337: UserWarning: Some child DataPipes are not exhausted when __iter__ is called. We are resetting the buffer and each child DataPipe will read from the start again.\n",
      "  warnings.warn(\"Some child DataPipes are not exhausted when __iter__ is called. We are resetting \"\n",
      "/Users/harshayarravarapu/Library/Python/3.9/lib/python/site-packages/torch/utils/data/datapipes/iter/combining.py:337: UserWarning: Some child DataPipes are not exhausted when __iter__ is called. We are resetting the buffer and each child DataPipe will read from the start again.\n",
      "  warnings.warn(\"Some child DataPipes are not exhausted when __iter__ is called. We are resetting \"\n",
      "/Users/harshayarravarapu/Library/Python/3.9/lib/python/site-packages/torch/utils/data/datapipes/iter/combining.py:337: UserWarning: Some child DataPipes are not exhausted when __iter__ is called. We are resetting the buffer and each child DataPipe will read from the start again.\n",
      "  warnings.warn(\"Some child DataPipes are not exhausted when __iter__ is called. We are resetting \"\n",
      "/Users/harshayarravarapu/Library/Python/3.9/lib/python/site-packages/torch/utils/data/datapipes/iter/combining.py:337: UserWarning: Some child DataPipes are not exhausted when __iter__ is called. We are resetting the buffer and each child DataPipe will read from the start again.\n",
      "  warnings.warn(\"Some child DataPipes are not exhausted when __iter__ is called. We are resetting \"\n"
     ]
    },
    {
     "data": {
      "application/vnd.jupyter.widget-view+json": {
       "model_id": "cc85533e6ffe44e8aa67f3951fe4b831",
       "version_major": 2,
       "version_minor": 0
      },
      "text/plain": [
       "Testing: 0it [00:00, ?it/s]"
      ]
     },
     "metadata": {},
     "output_type": "display_data"
    },
    {
     "data": {
      "application/vnd.jupyter.widget-view+json": {
       "model_id": "e9697d880ce148e88266a8ae45deaa3b",
       "version_major": 2,
       "version_minor": 0
      },
      "text/plain": [
       "Training: 0it [00:00, ?it/s]"
      ]
     },
     "metadata": {},
     "output_type": "display_data"
    },
    {
     "name": "stderr",
     "output_type": "stream",
     "text": [
      "/Users/harshayarravarapu/Library/Python/3.9/lib/python/site-packages/torch/utils/data/datapipes/iter/combining.py:337: UserWarning: Some child DataPipes are not exhausted when __iter__ is called. We are resetting the buffer and each child DataPipe will read from the start again.\n",
      "  warnings.warn(\"Some child DataPipes are not exhausted when __iter__ is called. We are resetting \"\n",
      "/Users/harshayarravarapu/Library/Python/3.9/lib/python/site-packages/torch/utils/data/datapipes/iter/combining.py:337: UserWarning: Some child DataPipes are not exhausted when __iter__ is called. We are resetting the buffer and each child DataPipe will read from the start again.\n",
      "  warnings.warn(\"Some child DataPipes are not exhausted when __iter__ is called. We are resetting \"\n",
      "/Users/harshayarravarapu/Library/Python/3.9/lib/python/site-packages/torch/utils/data/datapipes/iter/combining.py:337: UserWarning: Some child DataPipes are not exhausted when __iter__ is called. We are resetting the buffer and each child DataPipe will read from the start again.\n",
      "  warnings.warn(\"Some child DataPipes are not exhausted when __iter__ is called. We are resetting \"\n",
      "/Users/harshayarravarapu/Library/Python/3.9/lib/python/site-packages/torch/utils/data/datapipes/iter/combining.py:337: UserWarning: Some child DataPipes are not exhausted when __iter__ is called. We are resetting the buffer and each child DataPipe will read from the start again.\n",
      "  warnings.warn(\"Some child DataPipes are not exhausted when __iter__ is called. We are resetting \"\n"
     ]
    },
    {
     "data": {
      "application/vnd.jupyter.widget-view+json": {
       "model_id": "4788cf33e77e4cd38e9ab542b1b54e8b",
       "version_major": 2,
       "version_minor": 0
      },
      "text/plain": [
       "Testing: 0it [00:00, ?it/s]"
      ]
     },
     "metadata": {},
     "output_type": "display_data"
    },
    {
     "data": {
      "application/vnd.jupyter.widget-view+json": {
       "model_id": "e20f334dc53040dfa1bc52de8a6ec539",
       "version_major": 2,
       "version_minor": 0
      },
      "text/plain": [
       "Training: 0it [00:00, ?it/s]"
      ]
     },
     "metadata": {},
     "output_type": "display_data"
    },
    {
     "name": "stderr",
     "output_type": "stream",
     "text": [
      "/Users/harshayarravarapu/Library/Python/3.9/lib/python/site-packages/torch/utils/data/datapipes/iter/combining.py:337: UserWarning: Some child DataPipes are not exhausted when __iter__ is called. We are resetting the buffer and each child DataPipe will read from the start again.\n",
      "  warnings.warn(\"Some child DataPipes are not exhausted when __iter__ is called. We are resetting \"\n",
      "/Users/harshayarravarapu/Library/Python/3.9/lib/python/site-packages/torch/utils/data/datapipes/iter/combining.py:337: UserWarning: Some child DataPipes are not exhausted when __iter__ is called. We are resetting the buffer and each child DataPipe will read from the start again.\n",
      "  warnings.warn(\"Some child DataPipes are not exhausted when __iter__ is called. We are resetting \"\n",
      "/Users/harshayarravarapu/Library/Python/3.9/lib/python/site-packages/torch/utils/data/datapipes/iter/combining.py:337: UserWarning: Some child DataPipes are not exhausted when __iter__ is called. We are resetting the buffer and each child DataPipe will read from the start again.\n",
      "  warnings.warn(\"Some child DataPipes are not exhausted when __iter__ is called. We are resetting \"\n",
      "/Users/harshayarravarapu/Library/Python/3.9/lib/python/site-packages/torch/utils/data/datapipes/iter/combining.py:337: UserWarning: Some child DataPipes are not exhausted when __iter__ is called. We are resetting the buffer and each child DataPipe will read from the start again.\n",
      "  warnings.warn(\"Some child DataPipes are not exhausted when __iter__ is called. We are resetting \"\n"
     ]
    },
    {
     "data": {
      "application/vnd.jupyter.widget-view+json": {
       "model_id": "f60b4f7a58ab4b2f85b14aaaa60850a4",
       "version_major": 2,
       "version_minor": 0
      },
      "text/plain": [
       "Testing: 0it [00:00, ?it/s]"
      ]
     },
     "metadata": {},
     "output_type": "display_data"
    },
    {
     "data": {
      "application/vnd.jupyter.widget-view+json": {
       "model_id": "e98fd2daadb041449892ae29d30ad7c9",
       "version_major": 2,
       "version_minor": 0
      },
      "text/plain": [
       "Training: 0it [00:00, ?it/s]"
      ]
     },
     "metadata": {},
     "output_type": "display_data"
    },
    {
     "name": "stderr",
     "output_type": "stream",
     "text": [
      "/Users/harshayarravarapu/Library/Python/3.9/lib/python/site-packages/torch/utils/data/datapipes/iter/combining.py:337: UserWarning: Some child DataPipes are not exhausted when __iter__ is called. We are resetting the buffer and each child DataPipe will read from the start again.\n",
      "  warnings.warn(\"Some child DataPipes are not exhausted when __iter__ is called. We are resetting \"\n",
      "/Users/harshayarravarapu/Library/Python/3.9/lib/python/site-packages/torch/utils/data/datapipes/iter/combining.py:337: UserWarning: Some child DataPipes are not exhausted when __iter__ is called. We are resetting the buffer and each child DataPipe will read from the start again.\n",
      "  warnings.warn(\"Some child DataPipes are not exhausted when __iter__ is called. We are resetting \"\n",
      "/Users/harshayarravarapu/Library/Python/3.9/lib/python/site-packages/torch/utils/data/datapipes/iter/combining.py:337: UserWarning: Some child DataPipes are not exhausted when __iter__ is called. We are resetting the buffer and each child DataPipe will read from the start again.\n",
      "  warnings.warn(\"Some child DataPipes are not exhausted when __iter__ is called. We are resetting \"\n",
      "/Users/harshayarravarapu/Library/Python/3.9/lib/python/site-packages/torch/utils/data/datapipes/iter/combining.py:337: UserWarning: Some child DataPipes are not exhausted when __iter__ is called. We are resetting the buffer and each child DataPipe will read from the start again.\n",
      "  warnings.warn(\"Some child DataPipes are not exhausted when __iter__ is called. We are resetting \"\n"
     ]
    },
    {
     "data": {
      "application/vnd.jupyter.widget-view+json": {
       "model_id": "02c73a8459ce4d16ac58a3ad04bd0123",
       "version_major": 2,
       "version_minor": 0
      },
      "text/plain": [
       "Testing: 0it [00:00, ?it/s]"
      ]
     },
     "metadata": {},
     "output_type": "display_data"
    },
    {
     "data": {
      "application/vnd.jupyter.widget-view+json": {
       "model_id": "bb691078c9d24d0d82d095d65493eeec",
       "version_major": 2,
       "version_minor": 0
      },
      "text/plain": [
       "Training: 0it [00:00, ?it/s]"
      ]
     },
     "metadata": {},
     "output_type": "display_data"
    },
    {
     "name": "stderr",
     "output_type": "stream",
     "text": [
      "/Users/harshayarravarapu/Library/Python/3.9/lib/python/site-packages/torch/utils/data/datapipes/iter/combining.py:337: UserWarning: Some child DataPipes are not exhausted when __iter__ is called. We are resetting the buffer and each child DataPipe will read from the start again.\n",
      "  warnings.warn(\"Some child DataPipes are not exhausted when __iter__ is called. We are resetting \"\n",
      "/Users/harshayarravarapu/Library/Python/3.9/lib/python/site-packages/torch/utils/data/datapipes/iter/combining.py:337: UserWarning: Some child DataPipes are not exhausted when __iter__ is called. We are resetting the buffer and each child DataPipe will read from the start again.\n",
      "  warnings.warn(\"Some child DataPipes are not exhausted when __iter__ is called. We are resetting \"\n",
      "/Users/harshayarravarapu/Library/Python/3.9/lib/python/site-packages/torch/utils/data/datapipes/iter/combining.py:337: UserWarning: Some child DataPipes are not exhausted when __iter__ is called. We are resetting the buffer and each child DataPipe will read from the start again.\n",
      "  warnings.warn(\"Some child DataPipes are not exhausted when __iter__ is called. We are resetting \"\n",
      "/Users/harshayarravarapu/Library/Python/3.9/lib/python/site-packages/torch/utils/data/datapipes/iter/combining.py:337: UserWarning: Some child DataPipes are not exhausted when __iter__ is called. We are resetting the buffer and each child DataPipe will read from the start again.\n",
      "  warnings.warn(\"Some child DataPipes are not exhausted when __iter__ is called. We are resetting \"\n"
     ]
    },
    {
     "data": {
      "application/vnd.jupyter.widget-view+json": {
       "model_id": "ceae3f732e61497296a72734939cded2",
       "version_major": 2,
       "version_minor": 0
      },
      "text/plain": [
       "Testing: 0it [00:00, ?it/s]"
      ]
     },
     "metadata": {},
     "output_type": "display_data"
    },
    {
     "data": {
      "application/vnd.jupyter.widget-view+json": {
       "model_id": "661007d7dd36449b9f573ced50e82f18",
       "version_major": 2,
       "version_minor": 0
      },
      "text/plain": [
       "Training: 0it [00:00, ?it/s]"
      ]
     },
     "metadata": {},
     "output_type": "display_data"
    },
    {
     "name": "stderr",
     "output_type": "stream",
     "text": [
      "/Users/harshayarravarapu/Library/Python/3.9/lib/python/site-packages/torch/utils/data/datapipes/iter/combining.py:337: UserWarning: Some child DataPipes are not exhausted when __iter__ is called. We are resetting the buffer and each child DataPipe will read from the start again.\n",
      "  warnings.warn(\"Some child DataPipes are not exhausted when __iter__ is called. We are resetting \"\n",
      "/Users/harshayarravarapu/Library/Python/3.9/lib/python/site-packages/torch/utils/data/datapipes/iter/combining.py:337: UserWarning: Some child DataPipes are not exhausted when __iter__ is called. We are resetting the buffer and each child DataPipe will read from the start again.\n",
      "  warnings.warn(\"Some child DataPipes are not exhausted when __iter__ is called. We are resetting \"\n",
      "/Users/harshayarravarapu/Library/Python/3.9/lib/python/site-packages/torch/utils/data/datapipes/iter/combining.py:337: UserWarning: Some child DataPipes are not exhausted when __iter__ is called. We are resetting the buffer and each child DataPipe will read from the start again.\n",
      "  warnings.warn(\"Some child DataPipes are not exhausted when __iter__ is called. We are resetting \"\n",
      "/Users/harshayarravarapu/Library/Python/3.9/lib/python/site-packages/torch/utils/data/datapipes/iter/combining.py:337: UserWarning: Some child DataPipes are not exhausted when __iter__ is called. We are resetting the buffer and each child DataPipe will read from the start again.\n",
      "  warnings.warn(\"Some child DataPipes are not exhausted when __iter__ is called. We are resetting \"\n"
     ]
    },
    {
     "data": {
      "application/vnd.jupyter.widget-view+json": {
       "model_id": "8c14a48b7cd2498e8883d2c300e6ea9e",
       "version_major": 2,
       "version_minor": 0
      },
      "text/plain": [
       "Testing: 0it [00:00, ?it/s]"
      ]
     },
     "metadata": {},
     "output_type": "display_data"
    },
    {
     "data": {
      "application/vnd.jupyter.widget-view+json": {
       "model_id": "e7934a88cb1b46b0ba0bc3f347e46a81",
       "version_major": 2,
       "version_minor": 0
      },
      "text/plain": [
       "Training: 0it [00:00, ?it/s]"
      ]
     },
     "metadata": {},
     "output_type": "display_data"
    },
    {
     "name": "stderr",
     "output_type": "stream",
     "text": [
      "/Users/harshayarravarapu/Library/Python/3.9/lib/python/site-packages/torch/utils/data/datapipes/iter/combining.py:337: UserWarning: Some child DataPipes are not exhausted when __iter__ is called. We are resetting the buffer and each child DataPipe will read from the start again.\n",
      "  warnings.warn(\"Some child DataPipes are not exhausted when __iter__ is called. We are resetting \"\n",
      "/Users/harshayarravarapu/Library/Python/3.9/lib/python/site-packages/torch/utils/data/datapipes/iter/combining.py:337: UserWarning: Some child DataPipes are not exhausted when __iter__ is called. We are resetting the buffer and each child DataPipe will read from the start again.\n",
      "  warnings.warn(\"Some child DataPipes are not exhausted when __iter__ is called. We are resetting \"\n",
      "/Users/harshayarravarapu/Library/Python/3.9/lib/python/site-packages/torch/utils/data/datapipes/iter/combining.py:337: UserWarning: Some child DataPipes are not exhausted when __iter__ is called. We are resetting the buffer and each child DataPipe will read from the start again.\n",
      "  warnings.warn(\"Some child DataPipes are not exhausted when __iter__ is called. We are resetting \"\n",
      "/Users/harshayarravarapu/Library/Python/3.9/lib/python/site-packages/torch/utils/data/datapipes/iter/combining.py:337: UserWarning: Some child DataPipes are not exhausted when __iter__ is called. We are resetting the buffer and each child DataPipe will read from the start again.\n",
      "  warnings.warn(\"Some child DataPipes are not exhausted when __iter__ is called. We are resetting \"\n"
     ]
    },
    {
     "data": {
      "application/vnd.jupyter.widget-view+json": {
       "model_id": "d42bf428b2c047b98505a565c5e97354",
       "version_major": 2,
       "version_minor": 0
      },
      "text/plain": [
       "Testing: 0it [00:00, ?it/s]"
      ]
     },
     "metadata": {},
     "output_type": "display_data"
    },
    {
     "data": {
      "application/vnd.jupyter.widget-view+json": {
       "model_id": "e2ccdd1e573a4eb393bcc1467fc9291b",
       "version_major": 2,
       "version_minor": 0
      },
      "text/plain": [
       "Training: 0it [00:00, ?it/s]"
      ]
     },
     "metadata": {},
     "output_type": "display_data"
    },
    {
     "name": "stderr",
     "output_type": "stream",
     "text": [
      "/Users/harshayarravarapu/Library/Python/3.9/lib/python/site-packages/torch/utils/data/datapipes/iter/combining.py:337: UserWarning: Some child DataPipes are not exhausted when __iter__ is called. We are resetting the buffer and each child DataPipe will read from the start again.\n",
      "  warnings.warn(\"Some child DataPipes are not exhausted when __iter__ is called. We are resetting \"\n",
      "/Users/harshayarravarapu/Library/Python/3.9/lib/python/site-packages/torch/utils/data/datapipes/iter/combining.py:337: UserWarning: Some child DataPipes are not exhausted when __iter__ is called. We are resetting the buffer and each child DataPipe will read from the start again.\n",
      "  warnings.warn(\"Some child DataPipes are not exhausted when __iter__ is called. We are resetting \"\n",
      "/Users/harshayarravarapu/Library/Python/3.9/lib/python/site-packages/torch/utils/data/datapipes/iter/combining.py:337: UserWarning: Some child DataPipes are not exhausted when __iter__ is called. We are resetting the buffer and each child DataPipe will read from the start again.\n",
      "  warnings.warn(\"Some child DataPipes are not exhausted when __iter__ is called. We are resetting \"\n",
      "/Users/harshayarravarapu/Library/Python/3.9/lib/python/site-packages/torch/utils/data/datapipes/iter/combining.py:337: UserWarning: Some child DataPipes are not exhausted when __iter__ is called. We are resetting the buffer and each child DataPipe will read from the start again.\n",
      "  warnings.warn(\"Some child DataPipes are not exhausted when __iter__ is called. We are resetting \"\n"
     ]
    },
    {
     "data": {
      "application/vnd.jupyter.widget-view+json": {
       "model_id": "dfc4c3b16cf449c1bb0cedf3fc181b14",
       "version_major": 2,
       "version_minor": 0
      },
      "text/plain": [
       "Testing: 0it [00:00, ?it/s]"
      ]
     },
     "metadata": {},
     "output_type": "display_data"
    }
   ],
   "source": [
    "pbar = trange(0, nepochs, leave=False, desc=\"Epoch\")    \n",
    "train_acc = 0\n",
    "test_acc = 0\n",
    "for epoch in pbar:\n",
    "    pbar.set_postfix_str('Accuracy: Train %.2f%%, Test %.2f%%' % (train_acc * 100, test_acc * 100))\n",
    "    \n",
    "    lstm_classifier.train()\n",
    "    steps = 0\n",
    "    for label, text in tqdm(data_loader_train, desc=\"Training\", leave=False):\n",
    "        bs = label.shape[0]\n",
    "        text_tokens = text_transform(text_tokenizer(text)).to(device)\n",
    "        label = (label - 1).to(device)\n",
    "        \n",
    "        hidden = torch.zeros(num_layers, bs, hidden_size, device=device)\n",
    "        memory = torch.zeros(num_layers, bs, hidden_size, device=device)\n",
    "        pred, hidden, memory = lstm_classifier(text_tokens, hidden, memory)\n",
    "\n",
    "        loss = loss_fn(pred[:, -1, :], label)\n",
    "            \n",
    "        optimizer.zero_grad()\n",
    "        loss.backward()\n",
    "        optimizer.step()\n",
    "        \n",
    "        training_loss_logger.append(loss.item())\n",
    "        \n",
    "        train_acc += (pred[:, -1, :].argmax(1) == label).sum()\n",
    "        steps += bs\n",
    "        \n",
    "    train_acc = (train_acc/steps).item()\n",
    "    training_acc_logger.append(train_acc)\n",
    "    \n",
    "    lstm_classifier.eval()\n",
    "    steps = 0\n",
    "    with torch.no_grad():\n",
    "        for label, text in tqdm(data_loader_test, desc=\"Testing\", leave=False):\n",
    "            bs = label.shape[0]\n",
    "            text_tokens = text_transform(text_tokenizer(text)).to(device)\n",
    "            label = (label - 1).to(device)\n",
    "\n",
    "            hidden = torch.zeros(num_layers, bs, hidden_size, device=device)\n",
    "            memory = torch.zeros(num_layers, bs, hidden_size, device=device)\n",
    "            pred, hidden, memory = lstm_classifier(text_tokens, hidden, memory)\n",
    "\n",
    "            loss = loss_fn(pred[:, -1, :], label)\n",
    "            test_loss_logger.append(loss.item())\n",
    "\n",
    "            test_acc += (pred[:, -1, :].argmax(1) == label).sum()\n",
    "            steps += bs\n",
    "\n",
    "        test_acc = (test_acc/steps).item()\n",
    "        test_acc_logger.append(test_acc)"
   ]
  },
  {
   "cell_type": "code",
   "execution_count": 27,
   "metadata": {},
   "outputs": [
    {
     "data": {
      "image/png": "[encoded data removed]",
      "text/plain": [
       "<Figure size 1000x500 with 1 Axes>"
      ]
     },
     "metadata": {},
     "output_type": "display_data"
    }
   ],
   "source": [
    "_ = plt.figure(figsize=(10, 5))\n",
    "_ = plt.plot(np.linspace(0, nepochs, len(training_loss_logger)), training_loss_logger)\n",
    "_ = plt.plot(np.linspace(0, nepochs, len(test_loss_logger)), test_loss_logger)\n",
    "\n",
    "_ = plt.legend([\"Train\", \"Test\"])\n",
    "_ = plt.title(\"Training Vs Test Loss\")\n",
    "_ = plt.xlabel(\"Epochs\")\n",
    "_ = plt.ylabel(\"Loss\")"
   ]
  },
  {
   "cell_type": "code",
   "execution_count": 28,
   "metadata": {},
   "outputs": [
    {
     "data": {
      "image/png": "[encoded data removed]",
      "text/plain": [
       "<Figure size 1000x500 with 1 Axes>"
      ]
     },
     "metadata": {},
     "output_type": "display_data"
    }
   ],
   "source": [
    "_ = plt.figure(figsize=(10, 5))\n",
    "_ = plt.plot(np.linspace(0, nepochs, len(training_acc_logger)), training_acc_logger)\n",
    "_ = plt.plot(np.linspace(0, nepochs, len(test_acc_logger)), test_acc_logger)\n",
    "\n",
    "_ = plt.legend([\"Train\", \"Test\"])\n",
    "_ = plt.title(\"Training Vs Test Accuracy\")\n",
    "_ = plt.xlabel(\"Epochs\")\n",
    "_ = plt.ylabel(\"Accuracy\")"
   ]
  },
  {
   "cell_type": "code",
   "execution_count": 29,
   "metadata": {},
   "outputs": [],
   "source": [
    "#results"
   ]
  },
  {
   "cell_type": "code",
   "execution_count": null,
   "metadata": {},
   "outputs": [],
   "source": []
  }
 ],
 "metadata": {
  "kernelspec": {
   "display_name": "Python 3.10 (tensorflow)",
   "language": "python",
   "name": "tensorflow"
  },
  "language_info": {
   "codemirror_mode": {
    "name": "ipython",
    "version": 3
   },
   "file_extension": ".py",
   "mimetype": "text/x-python",
   "name": "python",
   "nbconvert_exporter": "python",
   "pygments_lexer": "ipython3",
   "version": "3.9.6"
  },
  "orig_nbformat": 4
 },
 "nbformat": 4,
 "nbformat_minor": 2
}
