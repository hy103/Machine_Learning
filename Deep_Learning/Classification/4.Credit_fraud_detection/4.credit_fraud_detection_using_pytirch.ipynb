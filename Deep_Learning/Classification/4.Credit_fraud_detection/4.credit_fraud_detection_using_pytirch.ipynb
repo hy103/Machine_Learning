{
 "cells": [
  {
   "cell_type": "code",
   "execution_count": 1,
   "metadata": {},
   "outputs": [],
   "source": [
    "import torch\n",
    "import torch.nn as nn\n",
    "from torch.nn import CrossEntropyLoss\n",
    "import torch.nn.functional as F \n",
    "\n",
    "import pandas as pd \n",
    "import numpy as np \n",
    "import matplotlib.pyplot as plt \n",
    "from sklearn.model_selection import train_test_split \n",
    "from sklearn.metrics import accuracy_score, classification_report\n",
    "from sklearn.preprocessing import LabelEncoder, StandardScaler\n"
   ]
  },
  {
   "cell_type": "code",
   "execution_count": 2,
   "metadata": {},
   "outputs": [
    {
     "data": {
      "text/html": [
       "<div>\n",
       "<style scoped>\n",
       "    .dataframe tbody tr th:only-of-type {\n",
       "        vertical-align: middle;\n",
       "    }\n",
       "\n",
       "    .dataframe tbody tr th {\n",
       "        vertical-align: top;\n",
       "    }\n",
       "\n",
       "    .dataframe thead th {\n",
       "        text-align: right;\n",
       "    }\n",
       "</style>\n",
       "<table border=\"1\" class=\"dataframe\">\n",
       "  <thead>\n",
       "    <tr style=\"text-align: right;\">\n",
       "      <th></th>\n",
       "      <th>timestamp</th>\n",
       "      <th>user_id</th>\n",
       "      <th>amount</th>\n",
       "      <th>location</th>\n",
       "      <th>device_type</th>\n",
       "      <th>is_fraud</th>\n",
       "      <th>age</th>\n",
       "      <th>income</th>\n",
       "      <th>debt</th>\n",
       "      <th>credit_score</th>\n",
       "    </tr>\n",
       "  </thead>\n",
       "  <tbody>\n",
       "    <tr>\n",
       "      <th>0</th>\n",
       "      <td>2023-12-15 02:48:24</td>\n",
       "      <td>3cbf0b8a-c799-4c0e-9782-89272ab8fa2b</td>\n",
       "      <td>998.99</td>\n",
       "      <td>Grantfurt</td>\n",
       "      <td>Mobile</td>\n",
       "      <td>0</td>\n",
       "      <td>56</td>\n",
       "      <td>42524.98</td>\n",
       "      <td>8394.05</td>\n",
       "      <td>655</td>\n",
       "    </tr>\n",
       "    <tr>\n",
       "      <th>1</th>\n",
       "      <td>2023-10-30 11:08:37</td>\n",
       "      <td>3675ed98-6863-4bae-b089-6f0db2df006b</td>\n",
       "      <td>241.39</td>\n",
       "      <td>Kimberlychester</td>\n",
       "      <td>Tablet</td>\n",
       "      <td>0</td>\n",
       "      <td>52</td>\n",
       "      <td>69884.04</td>\n",
       "      <td>28434.06</td>\n",
       "      <td>395</td>\n",
       "    </tr>\n",
       "    <tr>\n",
       "      <th>2</th>\n",
       "      <td>2023-11-21 05:19:35</td>\n",
       "      <td>4be1043f-20ee-4ac5-a689-b25c6a1de50c</td>\n",
       "      <td>836.42</td>\n",
       "      <td>Gutierrezville</td>\n",
       "      <td>Desktop</td>\n",
       "      <td>0</td>\n",
       "      <td>58</td>\n",
       "      <td>126953.62</td>\n",
       "      <td>39121.78</td>\n",
       "      <td>496</td>\n",
       "    </tr>\n",
       "    <tr>\n",
       "      <th>3</th>\n",
       "      <td>2023-11-07 00:03:25</td>\n",
       "      <td>cad0b3c9-099f-479b-8043-6d5ecb4e1467</td>\n",
       "      <td>612.74</td>\n",
       "      <td>Markside</td>\n",
       "      <td>Desktop</td>\n",
       "      <td>0</td>\n",
       "      <td>19</td>\n",
       "      <td>128650.70</td>\n",
       "      <td>39652.48</td>\n",
       "      <td>612</td>\n",
       "    </tr>\n",
       "    <tr>\n",
       "      <th>4</th>\n",
       "      <td>2023-04-02 14:12:23</td>\n",
       "      <td>b6ebea7d-ba62-41d7-b042-3978a23fef8b</td>\n",
       "      <td>135.55</td>\n",
       "      <td>Anthonyshire</td>\n",
       "      <td>Tablet</td>\n",
       "      <td>0</td>\n",
       "      <td>59</td>\n",
       "      <td>102020.39</td>\n",
       "      <td>7439.81</td>\n",
       "      <td>302</td>\n",
       "    </tr>\n",
       "  </tbody>\n",
       "</table>\n",
       "</div>"
      ],
      "text/plain": [
       "             timestamp                               user_id  amount  \\\n",
       "0  2023-12-15 02:48:24  3cbf0b8a-c799-4c0e-9782-89272ab8fa2b  998.99   \n",
       "1  2023-10-30 11:08:37  3675ed98-6863-4bae-b089-6f0db2df006b  241.39   \n",
       "2  2023-11-21 05:19:35  4be1043f-20ee-4ac5-a689-b25c6a1de50c  836.42   \n",
       "3  2023-11-07 00:03:25  cad0b3c9-099f-479b-8043-6d5ecb4e1467  612.74   \n",
       "4  2023-04-02 14:12:23  b6ebea7d-ba62-41d7-b042-3978a23fef8b  135.55   \n",
       "\n",
       "          location device_type  is_fraud  age     income      debt  \\\n",
       "0        Grantfurt      Mobile         0   56   42524.98   8394.05   \n",
       "1  Kimberlychester      Tablet         0   52   69884.04  28434.06   \n",
       "2   Gutierrezville     Desktop         0   58  126953.62  39121.78   \n",
       "3         Markside     Desktop         0   19  128650.70  39652.48   \n",
       "4     Anthonyshire      Tablet         0   59  102020.39   7439.81   \n",
       "\n",
       "   credit_score  \n",
       "0           655  \n",
       "1           395  \n",
       "2           496  \n",
       "3           612  \n",
       "4           302  "
      ]
     },
     "execution_count": 2,
     "metadata": {},
     "output_type": "execute_result"
    }
   ],
   "source": [
    "df = pd.read_csv(\"fraud_detection_dataset.csv\")\n",
    "df.head(5)"
   ]
  },
  {
   "cell_type": "code",
   "execution_count": 3,
   "metadata": {},
   "outputs": [
    {
     "data": {
      "text/plain": [
       "(2000000, 10)"
      ]
     },
     "execution_count": 3,
     "metadata": {},
     "output_type": "execute_result"
    }
   ],
   "source": [
    "df.shape"
   ]
  },
  {
   "cell_type": "code",
   "execution_count": 4,
   "metadata": {},
   "outputs": [
    {
     "data": {
      "text/plain": [
       "2000000"
      ]
     },
     "execution_count": 4,
     "metadata": {},
     "output_type": "execute_result"
    }
   ],
   "source": [
    "df.user_id.nunique()"
   ]
  },
  {
   "cell_type": "code",
   "execution_count": 5,
   "metadata": {},
   "outputs": [
    {
     "data": {
      "text/html": [
       "<div>\n",
       "<style scoped>\n",
       "    .dataframe tbody tr th:only-of-type {\n",
       "        vertical-align: middle;\n",
       "    }\n",
       "\n",
       "    .dataframe tbody tr th {\n",
       "        vertical-align: top;\n",
       "    }\n",
       "\n",
       "    .dataframe thead th {\n",
       "        text-align: right;\n",
       "    }\n",
       "</style>\n",
       "<table border=\"1\" class=\"dataframe\">\n",
       "  <thead>\n",
       "    <tr style=\"text-align: right;\">\n",
       "      <th></th>\n",
       "      <th>amount</th>\n",
       "      <th>device_type</th>\n",
       "      <th>is_fraud</th>\n",
       "      <th>age</th>\n",
       "      <th>income</th>\n",
       "      <th>debt</th>\n",
       "      <th>credit_score</th>\n",
       "    </tr>\n",
       "  </thead>\n",
       "  <tbody>\n",
       "    <tr>\n",
       "      <th>0</th>\n",
       "      <td>998.99</td>\n",
       "      <td>Mobile</td>\n",
       "      <td>0</td>\n",
       "      <td>56</td>\n",
       "      <td>42524.98</td>\n",
       "      <td>8394.05</td>\n",
       "      <td>655</td>\n",
       "    </tr>\n",
       "    <tr>\n",
       "      <th>1</th>\n",
       "      <td>241.39</td>\n",
       "      <td>Tablet</td>\n",
       "      <td>0</td>\n",
       "      <td>52</td>\n",
       "      <td>69884.04</td>\n",
       "      <td>28434.06</td>\n",
       "      <td>395</td>\n",
       "    </tr>\n",
       "    <tr>\n",
       "      <th>2</th>\n",
       "      <td>836.42</td>\n",
       "      <td>Desktop</td>\n",
       "      <td>0</td>\n",
       "      <td>58</td>\n",
       "      <td>126953.62</td>\n",
       "      <td>39121.78</td>\n",
       "      <td>496</td>\n",
       "    </tr>\n",
       "    <tr>\n",
       "      <th>3</th>\n",
       "      <td>612.74</td>\n",
       "      <td>Desktop</td>\n",
       "      <td>0</td>\n",
       "      <td>19</td>\n",
       "      <td>128650.70</td>\n",
       "      <td>39652.48</td>\n",
       "      <td>612</td>\n",
       "    </tr>\n",
       "    <tr>\n",
       "      <th>4</th>\n",
       "      <td>135.55</td>\n",
       "      <td>Tablet</td>\n",
       "      <td>0</td>\n",
       "      <td>59</td>\n",
       "      <td>102020.39</td>\n",
       "      <td>7439.81</td>\n",
       "      <td>302</td>\n",
       "    </tr>\n",
       "  </tbody>\n",
       "</table>\n",
       "</div>"
      ],
      "text/plain": [
       "   amount device_type  is_fraud  age     income      debt  credit_score\n",
       "0  998.99      Mobile         0   56   42524.98   8394.05           655\n",
       "1  241.39      Tablet         0   52   69884.04  28434.06           395\n",
       "2  836.42     Desktop         0   58  126953.62  39121.78           496\n",
       "3  612.74     Desktop         0   19  128650.70  39652.48           612\n",
       "4  135.55      Tablet         0   59  102020.39   7439.81           302"
      ]
     },
     "execution_count": 5,
     "metadata": {},
     "output_type": "execute_result"
    }
   ],
   "source": [
    "df = df.drop(['timestamp', 'user_id', 'location'], axis =1)\n",
    "df.head(5)"
   ]
  },
  {
   "cell_type": "code",
   "execution_count": 6,
   "metadata": {},
   "outputs": [
    {
     "data": {
      "text/html": [
       "<div>\n",
       "<style scoped>\n",
       "    .dataframe tbody tr th:only-of-type {\n",
       "        vertical-align: middle;\n",
       "    }\n",
       "\n",
       "    .dataframe tbody tr th {\n",
       "        vertical-align: top;\n",
       "    }\n",
       "\n",
       "    .dataframe thead th {\n",
       "        text-align: right;\n",
       "    }\n",
       "</style>\n",
       "<table border=\"1\" class=\"dataframe\">\n",
       "  <thead>\n",
       "    <tr style=\"text-align: right;\">\n",
       "      <th></th>\n",
       "      <th>amount</th>\n",
       "      <th>device_type</th>\n",
       "      <th>is_fraud</th>\n",
       "      <th>age</th>\n",
       "      <th>income</th>\n",
       "      <th>debt</th>\n",
       "      <th>credit_score</th>\n",
       "    </tr>\n",
       "  </thead>\n",
       "  <tbody>\n",
       "    <tr>\n",
       "      <th>0</th>\n",
       "      <td>998.99</td>\n",
       "      <td>Mobile</td>\n",
       "      <td>0</td>\n",
       "      <td>56</td>\n",
       "      <td>42524.98</td>\n",
       "      <td>8394.05</td>\n",
       "      <td>655</td>\n",
       "    </tr>\n",
       "    <tr>\n",
       "      <th>1</th>\n",
       "      <td>241.39</td>\n",
       "      <td>Tablet</td>\n",
       "      <td>0</td>\n",
       "      <td>52</td>\n",
       "      <td>69884.04</td>\n",
       "      <td>28434.06</td>\n",
       "      <td>395</td>\n",
       "    </tr>\n",
       "    <tr>\n",
       "      <th>2</th>\n",
       "      <td>836.42</td>\n",
       "      <td>Desktop</td>\n",
       "      <td>0</td>\n",
       "      <td>58</td>\n",
       "      <td>126953.62</td>\n",
       "      <td>39121.78</td>\n",
       "      <td>496</td>\n",
       "    </tr>\n",
       "    <tr>\n",
       "      <th>3</th>\n",
       "      <td>612.74</td>\n",
       "      <td>Desktop</td>\n",
       "      <td>0</td>\n",
       "      <td>19</td>\n",
       "      <td>128650.70</td>\n",
       "      <td>39652.48</td>\n",
       "      <td>612</td>\n",
       "    </tr>\n",
       "    <tr>\n",
       "      <th>4</th>\n",
       "      <td>135.55</td>\n",
       "      <td>Tablet</td>\n",
       "      <td>0</td>\n",
       "      <td>59</td>\n",
       "      <td>102020.39</td>\n",
       "      <td>7439.81</td>\n",
       "      <td>302</td>\n",
       "    </tr>\n",
       "  </tbody>\n",
       "</table>\n",
       "</div>"
      ],
      "text/plain": [
       "   amount device_type  is_fraud  age     income      debt  credit_score\n",
       "0  998.99      Mobile         0   56   42524.98   8394.05           655\n",
       "1  241.39      Tablet         0   52   69884.04  28434.06           395\n",
       "2  836.42     Desktop         0   58  126953.62  39121.78           496\n",
       "3  612.74     Desktop         0   19  128650.70  39652.48           612\n",
       "4  135.55      Tablet         0   59  102020.39   7439.81           302"
      ]
     },
     "execution_count": 6,
     "metadata": {},
     "output_type": "execute_result"
    }
   ],
   "source": [
    "df.head(5)"
   ]
  },
  {
   "cell_type": "code",
   "execution_count": 7,
   "metadata": {},
   "outputs": [],
   "source": [
    "def convert_device_type(df, col_name):\n",
    "    le = LabelEncoder()\n",
    "    df[col_name] = le.fit_transform(df[col_name])\n",
    "\n",
    "    return df"
   ]
  },
  {
   "cell_type": "code",
   "execution_count": 8,
   "metadata": {},
   "outputs": [
    {
     "data": {
      "text/plain": [
       "(array([1, 2, 0]), array([0, 1]))"
      ]
     },
     "execution_count": 8,
     "metadata": {},
     "output_type": "execute_result"
    }
   ],
   "source": [
    "df = convert_device_type(df, 'device_type')\n",
    "df = convert_device_type(df, 'is_fraud')\n",
    "df.device_type.unique(), df.is_fraud.unique()"
   ]
  },
  {
   "cell_type": "code",
   "execution_count": 9,
   "metadata": {},
   "outputs": [
    {
     "data": {
      "text/plain": [
       "0    1000000\n",
       "1    1000000\n",
       "Name: is_fraud, dtype: int64"
      ]
     },
     "execution_count": 9,
     "metadata": {},
     "output_type": "execute_result"
    }
   ],
   "source": [
    "df.is_fraud.value_counts()"
   ]
  },
  {
   "cell_type": "code",
   "execution_count": 10,
   "metadata": {},
   "outputs": [],
   "source": [
    "y = df['is_fraud']\n",
    "x = df.drop(['is_fraud'], axis =1)\n"
   ]
  },
  {
   "cell_type": "code",
   "execution_count": 11,
   "metadata": {},
   "outputs": [],
   "source": [
    "scaler = StandardScaler()\n",
    "x_std = scaler.fit_transform(x)"
   ]
  },
  {
   "cell_type": "markdown",
   "metadata": {},
   "source": [
    "## 1. Input output and model defining"
   ]
  },
  {
   "cell_type": "code",
   "execution_count": 12,
   "metadata": {},
   "outputs": [
    {
     "data": {
      "text/plain": [
       "((1400000, 6), (600000, 6), (1400000,), (600000,))"
      ]
     },
     "execution_count": 12,
     "metadata": {},
     "output_type": "execute_result"
    }
   ],
   "source": [
    "X_train, X_test, y_train, y_test = train_test_split(x_std, y, test_size = 0.3, random_state = 42, shuffle=True)\n",
    "X_train.shape, X_test.shape, y_train.shape, y_test.shape"
   ]
  },
  {
   "cell_type": "code",
   "execution_count": 13,
   "metadata": {},
   "outputs": [],
   "source": [
    "x = torch.tensor(np.array(X_train), dtype= torch.float32, requires_grad=True)\n",
    "y = torch.tensor(np.array(y_train).reshape(-1,1), dtype = torch.float32)"
   ]
  },
  {
   "cell_type": "code",
   "execution_count": 14,
   "metadata": {},
   "outputs": [
    {
     "data": {
      "text/plain": [
       "torch.Size([1400000, 1])"
      ]
     },
     "execution_count": 14,
     "metadata": {},
     "output_type": "execute_result"
    }
   ],
   "source": [
    "y.shape"
   ]
  },
  {
   "cell_type": "code",
   "execution_count": 15,
   "metadata": {},
   "outputs": [
    {
     "data": {
      "text/plain": [
       "tensor([0., 1.])"
      ]
     },
     "execution_count": 15,
     "metadata": {},
     "output_type": "execute_result"
    }
   ],
   "source": [
    "torch.unique(y)"
   ]
  },
  {
   "cell_type": "code",
   "execution_count": 16,
   "metadata": {},
   "outputs": [
    {
     "name": "stdout",
     "output_type": "stream",
     "text": [
      "Classification(\n",
      "  (layer1): Linear(in_features=6, out_features=16, bias=True)\n",
      "  (layer2): Linear(in_features=16, out_features=8, bias=True)\n",
      "  (layer3): Linear(in_features=8, out_features=4, bias=True)\n",
      "  (layer4): Linear(in_features=4, out_features=2, bias=True)\n",
      "  (layer5): Linear(in_features=2, out_features=1, bias=True)\n",
      ")\n"
     ]
    }
   ],
   "source": [
    "#Model \n",
    "\n",
    "class Classification(nn.Module):\n",
    "    def __init__(self, input_size):\n",
    "        super(Classification,self).__init__()\n",
    "\n",
    "        self.layer1 = nn.Linear(input_size, 16)\n",
    "        self.layer2 = nn.Linear(16,8)\n",
    "        self.layer3 = nn.Linear(8, 4)\n",
    "        self.layer4 = nn.Linear(4,2)\n",
    "        self.layer5 = nn.Linear(2,1)\n",
    "\n",
    "    def forward(self, x):\n",
    "        x = self.layer1(x)\n",
    "        x = F.relu(self.layer2(x))\n",
    "        x = F.relu(self.layer3(x))\n",
    "        x = F.relu(self.layer4(x))\n",
    "        x = torch.sigmoid(self.layer5(x))\n",
    "\n",
    "        return x\n",
    "    \n",
    "\n",
    "model = Classification(X_train.shape[1])\n",
    "print(model)\n"
   ]
  },
  {
   "cell_type": "markdown",
   "metadata": {},
   "source": [
    "## 2.Loss, epochs, learning rate, optimizer"
   ]
  },
  {
   "cell_type": "code",
   "execution_count": 17,
   "metadata": {},
   "outputs": [],
   "source": [
    "epochs = 200\n",
    "lerning_rate = 0.003\n",
    "loss = nn.BCELoss()\n",
    "sgd_optim = torch.optim.Adam(model.parameters(), lr = lerning_rate)"
   ]
  },
  {
   "cell_type": "markdown",
   "metadata": {},
   "source": [
    "## 3. Model run forward pass, backward pass and update parameters"
   ]
  },
  {
   "cell_type": "code",
   "execution_count": 18,
   "metadata": {},
   "outputs": [
    {
     "name": "stdout",
     "output_type": "stream",
     "text": [
      "Epoch : 0, loss : 0.6935584545135498\n",
      "Epoch : 10, loss : 0.6902232766151428\n",
      "Epoch : 20, loss : 0.6765246391296387\n",
      "Epoch : 30, loss : 0.6508973240852356\n",
      "Epoch : 40, loss : 0.6392704844474792\n",
      "Epoch : 50, loss : 0.6274430155754089\n",
      "Epoch : 60, loss : 0.6158627867698669\n",
      "Epoch : 70, loss : 0.6039554476737976\n",
      "Epoch : 80, loss : 0.5913461446762085\n",
      "Epoch : 90, loss : 0.5779817700386047\n",
      "Epoch : 100, loss : 0.5641186237335205\n",
      "Epoch : 110, loss : 0.5500268340110779\n",
      "Epoch : 120, loss : 0.5355876088142395\n",
      "Epoch : 130, loss : 0.5208609104156494\n",
      "Epoch : 140, loss : 0.505916178226471\n",
      "Epoch : 150, loss : 0.4908166527748108\n",
      "Epoch : 160, loss : 0.47560837864875793\n",
      "Epoch : 170, loss : 0.460361123085022\n",
      "Epoch : 180, loss : 0.4451153576374054\n",
      "Epoch : 190, loss : 0.4299200773239136\n"
     ]
    }
   ],
   "source": [
    "loss_list = []\n",
    "for epoch in range(epochs):\n",
    "    #Initialize the optimizer\n",
    "    sgd_optim.zero_grad()\n",
    "\n",
    "    #forward pass the model\n",
    "    y_pred = model(x)\n",
    "\n",
    "    #Loss\n",
    "    l = loss(y_pred, y)\n",
    "\n",
    "    #backward pass the losses\n",
    "    l.backward()\n",
    "\n",
    "    #Set the optimizer to reset and update parameters\n",
    "    sgd_optim.step()\n",
    "\n",
    "    if (epoch%10==0):\n",
    "        print(f'Epoch : {epoch}, loss : {l.item()}')\n"
   ]
  },
  {
   "cell_type": "code",
   "execution_count": 19,
   "metadata": {},
   "outputs": [
    {
     "data": {
      "text/plain": [
       "tensor([0., 1.])"
      ]
     },
     "execution_count": 19,
     "metadata": {},
     "output_type": "execute_result"
    }
   ],
   "source": [
    "torch.unique(y)"
   ]
  },
  {
   "cell_type": "code",
   "execution_count": 20,
   "metadata": {},
   "outputs": [
    {
     "data": {
      "text/plain": [
       "array([[ 7.10782047e-01, -1.22538248e+00,  1.11100880e+00,\n",
       "         6.63970612e-01,  1.20426611e-01, -8.15625936e-01],\n",
       "       [ 8.79720221e-01, -1.10124098e-03,  5.22678894e-01,\n",
       "        -2.06491167e-01, -1.44312521e+00, -1.60117703e+00],\n",
       "       [-1.04690361e+00, -1.22538248e+00, -1.17694084e+00,\n",
       "         1.13349078e+00, -9.39273626e-01, -1.11727756e+00],\n",
       "       ...,\n",
       "       [ 1.44140103e-01, -1.10124098e-03,  5.22678894e-01,\n",
       "         5.66834564e-01,  3.87019256e-01,  9.87999382e-01],\n",
       "       [-8.53147592e-01, -1.10124098e-03,  1.43785875e+00,\n",
       "        -5.04221117e-01,  1.44240095e+00, -6.14524855e-01],\n",
       "       [ 4.85407048e-01, -1.10124098e-03,  1.43785875e+00,\n",
       "         9.76960608e-01,  7.47885839e-01, -1.30580982e+00]])"
      ]
     },
     "execution_count": 20,
     "metadata": {},
     "output_type": "execute_result"
    }
   ],
   "source": [
    "X_test"
   ]
  },
  {
   "cell_type": "code",
   "execution_count": 21,
   "metadata": {},
   "outputs": [
    {
     "name": "stdout",
     "output_type": "stream",
     "text": [
      "tensor([0])\n"
     ]
    }
   ],
   "source": [
    "outputs = model(torch.tensor(np.array(X_test),dtype=torch.float32,requires_grad=True))\n",
    "__, predicted = torch.max(outputs, 1)\n",
    "print(torch.unique(predicted))"
   ]
  },
  {
   "cell_type": "code",
   "execution_count": 22,
   "metadata": {},
   "outputs": [],
   "source": [
    "def accuracy(out, labels):\n",
    "    _,pred = torch.max(out, dim=1)\n",
    "    return torch.sum(pred==labels).item()"
   ]
  },
  {
   "cell_type": "code",
   "execution_count": 23,
   "metadata": {},
   "outputs": [],
   "source": [
    "y_train_pred = model(torch.tensor(np.array(X_train),dtype=torch.float32,requires_grad=True))\n",
    "y_test_pred = model(torch.tensor(np.array(X_test),dtype=torch.float32))\n",
    "\n",
    "#convert to numpy array\n",
    "#y_train_pred = y_train_pred.detach().numpy()\n",
    "#y_test_pred = y_test_pred.detach().numpy()\n",
    "\n",
    "y_test = torch.tensor(np.array(y_test).reshape(-1,1), dtype = torch.float32)\n",
    "y_train = torch.tensor(np.array(y_train).reshape(-1,1), dtype = torch.float32)"
   ]
  },
  {
   "cell_type": "code",
   "execution_count": 25,
   "metadata": {},
   "outputs": [
    {
     "name": "stdout",
     "output_type": "stream",
     "text": [
      "5100\n"
     ]
    }
   ],
   "source": [
    "test_accuracy=accuracy(y_test_pred[:100], y_test[:100])\n",
    "#train_accuracy=accuracy(y_train_pred, y_train)\n",
    "#print(train_accuracy)\n",
    "print(test_accuracy)"
   ]
  },
  {
   "cell_type": "code",
   "execution_count": 28,
   "metadata": {},
   "outputs": [
    {
     "name": "stdout",
     "output_type": "stream",
     "text": [
      "Accuracy: 0.9949716666666667\n"
     ]
    }
   ],
   "source": [
    "y_test_np = y_test.detach().numpy()\n",
    "y_test_pred_np = y_test_pred.detach().numpy()\n",
    "\n",
    "# Threshold predicted probabilities to obtain binary predictions (0 or 1)\n",
    "y_test_pred_binary = (y_test_pred_np >= 0.5).astype(int)\n",
    "\n",
    "# Compare binary predictions with actual labels to compute accuracy\n",
    "accuracy = np.mean(y_test_pred_binary == y_test_np)\n",
    "print(\"Accuracy:\", accuracy)"
   ]
  },
  {
   "cell_type": "code",
   "execution_count": 30,
   "metadata": {},
   "outputs": [
    {
     "name": "stdout",
     "output_type": "stream",
     "text": [
      "              precision    recall  f1-score   support\n",
      "\n",
      "           0       1.00      0.99      0.99    303045\n",
      "           1       0.99      1.00      0.99    296955\n",
      "\n",
      "    accuracy                           0.99    600000\n",
      "   macro avg       0.99      1.00      0.99    600000\n",
      "weighted avg       1.00      0.99      0.99    600000\n",
      "\n"
     ]
    }
   ],
   "source": [
    "print(classification_report(y_test_pred_binary, y_test_np))"
   ]
  },
  {
   "cell_type": "code",
   "execution_count": null,
   "metadata": {},
   "outputs": [],
   "source": []
  }
 ],
 "metadata": {
  "kernelspec": {
   "display_name": "Python 3.10 (tensorflow)",
   "language": "python",
   "name": "tensorflow"
  },
  "language_info": {
   "codemirror_mode": {
    "name": "ipython",
    "version": 3
   },
   "file_extension": ".py",
   "mimetype": "text/x-python",
   "name": "python",
   "nbconvert_exporter": "python",
   "pygments_lexer": "ipython3",
   "version": "3.9.6"
  },
  "orig_nbformat": 4
 },
 "nbformat": 4,
 "nbformat_minor": 2
}
