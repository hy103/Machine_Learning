{
 "cells": [
  {
   "cell_type": "code",
   "execution_count": 1,
   "metadata": {},
   "outputs": [],
   "source": [
    "import torch \n",
    "import torch.nn as nn\n"
   ]
  },
  {
   "cell_type": "markdown",
   "metadata": {},
   "source": [
    "## 1. Define input and output and - Design model"
   ]
  },
  {
   "cell_type": "code",
   "execution_count": 2,
   "metadata": {},
   "outputs": [],
   "source": [
    "#Pytorch expects inner lists with samples\n",
    "x = torch.tensor([[1],[2],[3],[4],[5],[6],[7],[8]], dtype = torch.float32)\n",
    "y = torch.tensor([[2],[4],[6],[8],[10],[12],[14],[16]], dtype = torch.float32)\n",
    "\n",
    "n_samples , n_features = x.shape\n",
    "x_test = torch.tensor([5], dtype = torch.float32)"
   ]
  },
  {
   "cell_type": "code",
   "execution_count": 4,
   "metadata": {},
   "outputs": [],
   "source": [
    "##Linear regression class\n",
    "\n",
    "#In the below class we define the layers\n",
    "class linearregression(nn.Module):\n",
    "    def __init__(self, input_size, output_size):\n",
    "        super(linearregression, self).__init__()\n",
    "        #Linear layer\n",
    "        self.lin = nn.Linear(input_size, output_size)\n",
    "\n",
    "#In the below function we pass the inputs and outputs\n",
    "    def forward(self, x):\n",
    "        return self.lin(x)"
   ]
  },
  {
   "cell_type": "code",
   "execution_count": 12,
   "metadata": {},
   "outputs": [
    {
     "name": "stdout",
     "output_type": "stream",
     "text": [
      "Prediction before training: tensor([-0.5113], grad_fn=<ViewBackward0>)\n"
     ]
    }
   ],
   "source": [
    "input_size, output_size = n_features, n_features\n",
    "\n",
    "model = linearregression(input_size, output_size)\n",
    "#prediction = model(x_test.reshape(-1, 1))  # Assuming input_size is 1\n",
    "\n",
    "print(f'Prediction before training: {model(x_test)}')\n"
   ]
  },
  {
   "cell_type": "markdown",
   "metadata": {},
   "source": [
    "## 2.Construct loss and optimizer"
   ]
  },
  {
   "cell_type": "code",
   "execution_count": 16,
   "metadata": {},
   "outputs": [],
   "source": [
    "learning_rate = 0.01\n",
    "epochs = 1000\n",
    "loss = nn.MSELoss()\n",
    "optim = torch.optim.SGD(model.parameters(), lr = learning_rate)"
   ]
  },
  {
   "cell_type": "markdown",
   "metadata": {},
   "source": [
    "## 3. Training loop"
   ]
  },
  {
   "cell_type": "code",
   "execution_count": 18,
   "metadata": {},
   "outputs": [
    {
     "name": "stdout",
     "output_type": "stream",
     "text": [
      "epoch 0 :w =  0.8522182106971741 loss : 114.36334228515625\n",
      "epoch 100 :w =  1.8823541402816772 loss : 0.0908198207616806\n",
      "epoch 200 :w =  1.9211422204971313 loss : 0.040805283933877945\n",
      "epoch 300 :w =  1.9471417665481567 loss : 0.018333813175559044\n",
      "epoch 400 :w =  1.964569091796875 loss : 0.008237374946475029\n",
      "epoch 500 :w =  1.9762507677078247 loss : 0.0037010391242802143\n",
      "epoch 600 :w =  1.9840810298919678 loss : 0.0016628821613267064\n",
      "epoch 700 :w =  1.9893295764923096 loss : 0.0007471303688362241\n",
      "epoch 800 :w =  1.9928476810455322 loss : 0.0003356866363901645\n",
      "epoch 900 :w =  1.9952057600021362 loss : 0.0001508205896243453\n",
      "After training the prediction for the value - 5.0 : 10.002007484436035\n"
     ]
    }
   ],
   "source": [
    "for epoch in range(epochs):\n",
    "    #Forward pass and preditions\n",
    "    y_predicted = model(x)\n",
    "\n",
    "    #Calculate the loss\n",
    "    l = loss(y, y_predicted)\n",
    "\n",
    "    #backpropogate the loss\n",
    "    l.backward()\n",
    "\n",
    "    #update the weights\n",
    "    optim.step()\n",
    "\n",
    "    #empty the gradients after the loss\n",
    "    optim.zero_grad()\n",
    "\n",
    "    if (epoch %100 ==0):\n",
    "        w,b = model.parameters()\n",
    "\n",
    "        print('epoch', epoch,  ':w = ' , w[0][0].item(), 'loss :', l.item())\n",
    "print(f'After training the prediction for the value - {x_test.item()} : {model(x_test).item()}')\n"
   ]
  },
  {
   "cell_type": "code",
   "execution_count": null,
   "metadata": {},
   "outputs": [],
   "source": []
  }
 ],
 "metadata": {
  "kernelspec": {
   "display_name": "Python 3.10 (tensorflow)",
   "language": "python",
   "name": "tensorflow"
  },
  "language_info": {
   "codemirror_mode": {
    "name": "ipython",
    "version": 3
   },
   "file_extension": ".py",
   "mimetype": "text/x-python",
   "name": "python",
   "nbconvert_exporter": "python",
   "pygments_lexer": "ipython3",
   "version": "3.9.6"
  },
  "orig_nbformat": 4
 },
 "nbformat": 4,
 "nbformat_minor": 2
}
