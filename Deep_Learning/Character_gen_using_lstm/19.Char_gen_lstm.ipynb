{
 "cells": [
  {
   "cell_type": "code",
   "execution_count": 19,
   "metadata": {},
   "outputs": [
    {
     "name": "stdout",
     "output_type": "stream",
     "text": [
      "Total chars : 163916\n",
      "Total vocab : 64\n"
     ]
    }
   ],
   "source": [
    "import numpy as np\n",
    "filename = \"Gemini.txt\" \n",
    "raw_text = open(filename, 'r', encoding = 'utf-8').read()\n",
    "raw_text = raw_text.lower()\n",
    "\n",
    "chars = sorted(list(set(raw_text)))\n",
    "char_to_int = dict((c,i)  for i, c in enumerate(chars))\n",
    "\n",
    "n_chars = len(raw_text)\n",
    "n_vocab = len(chars)\n",
    "print(\"Total chars :\", (n_chars))\n",
    "print(\"Total vocab :\", (n_vocab))"
   ]
  },
  {
   "cell_type": "code",
   "execution_count": 20,
   "metadata": {},
   "outputs": [
    {
     "name": "stdout",
     "output_type": "stream",
     "text": [
      "Total Patterns:  163816\n"
     ]
    }
   ],
   "source": [
    "# prepare the dataset of input to output pairs encoded as integers\n",
    "seq_length = 100\n",
    "dataX = []\n",
    "dataY = []\n",
    "for i in range(0, n_chars - seq_length, 1):\n",
    "    seq_in = raw_text[i:i + seq_length]\n",
    "    seq_out = raw_text[i + seq_length]\n",
    "    dataX.append([char_to_int[char] for char in seq_in])\n",
    "    dataY.append(char_to_int[seq_out])\n",
    "n_patterns = len(dataX)\n",
    "print(\"Total Patterns: \", n_patterns)"
   ]
  },
  {
   "cell_type": "code",
   "execution_count": 21,
   "metadata": {},
   "outputs": [
    {
     "name": "stdout",
     "output_type": "stream",
     "text": [
      "torch.Size([163816, 100, 1]) torch.Size([163816])\n"
     ]
    }
   ],
   "source": [
    "import torch \n",
    "import torch.nn as nn \n",
    "import torch.optim as optim \n",
    "X = torch.tensor(dataX, dtype = torch.float32).reshape(n_patterns, seq_length,1)\n",
    "X = X/float(n_vocab)\n",
    "y = torch.tensor(dataY)\n",
    "print(X.shape, y.shape)"
   ]
  },
  {
   "cell_type": "code",
   "execution_count": 22,
   "metadata": {},
   "outputs": [],
   "source": [
    "import torch.utils.data as data \n",
    "\n",
    "class Char_model(nn.Module):\n",
    "    def __init__(self):\n",
    "        super().__init__()\n",
    "        self.lstm = nn.LSTM(input_size = 1, hidden_size = 256, num_layers=1,\n",
    "                            batch_first = True)\n",
    "        self.dropout = nn.Dropout(0.2)\n",
    "        self.fc = nn.Linear(256, n_vocab)\n",
    "\n",
    "    def forward(self, x):\n",
    "        x, _ = self.lstm(x)\n",
    "        x = x[:, -1, :]\n",
    "        x = self.fc(self.dropout(x))\n",
    "        return x"
   ]
  },
  {
   "cell_type": "code",
   "execution_count": 23,
   "metadata": {},
   "outputs": [
    {
     "name": "stdout",
     "output_type": "stream",
     "text": [
      "Epoch. 0: Cross-entropy: 1027930.8125\n",
      "Epoch. 1: Cross-entropy: 1011831.3750\n",
      "Epoch. 2: Cross-entropy: 745619.6875\n",
      "Epoch. 3: Cross-entropy: 1411356.7500\n",
      "Epoch. 4: Cross-entropy: 800302.2500\n",
      "Epoch. 5: Cross-entropy: 790330.9375\n",
      "Epoch. 6: Cross-entropy: 724182.1875\n",
      "Epoch. 7: Cross-entropy: 679144.7500\n",
      "Epoch. 8: Cross-entropy: 819787.1875\n",
      "Epoch. 9: Cross-entropy: 708415.3750\n",
      "Epoch. 10: Cross-entropy: 817261.8750\n",
      "Epoch. 11: Cross-entropy: 1216122.2500\n",
      "Epoch. 12: Cross-entropy: 743504.5000\n",
      "Epoch. 13: Cross-entropy: 1227626.7500\n",
      "Epoch. 14: Cross-entropy: 688200.1250\n",
      "Epoch. 15: Cross-entropy: 968530.2500\n",
      "Epoch. 16: Cross-entropy: 1104109.5000\n",
      "Epoch. 17: Cross-entropy: 1163043.0000\n",
      "Epoch. 18: Cross-entropy: 918243.6875\n",
      "Epoch. 19: Cross-entropy: 1228238.2500\n"
     ]
    }
   ],
   "source": [
    "n_epochs = 20\n",
    "batch_size = 128\n",
    "model = Char_model()\n",
    "\n",
    "optimizer = optim.Adam(model.parameters(), lr = 0.1)\n",
    "loss_fn = nn.CrossEntropyLoss(reduction = \"sum\")\n",
    "loader = data.DataLoader(data.TensorDataset(X, y), shuffle = True, \n",
    "                         batch_size=batch_size)\n",
    "\n",
    "best_model = None\n",
    "best_loss = np.inf\n",
    "\n",
    "for epoch in range(n_epochs):\n",
    "    model.train()\n",
    "    for X_batch, y_batch in loader:\n",
    "\n",
    "        y_pred = model(X_batch)\n",
    "        loss = loss_fn(y_pred, y_batch)\n",
    "        optimizer.zero_grad()\n",
    "        loss.backward()\n",
    "        optimizer.step()\n",
    "\n",
    "    model.eval()\n",
    "    loss =0\n",
    "    with torch.no_grad():\n",
    "        for X_batch, y_batch in loader :\n",
    "            y_pred = model(X_batch)\n",
    "            loss+= loss_fn(y_pred, y_batch)\n",
    "        if loss < best_loss:\n",
    "            best_model = model.state_dict()\n",
    "\n",
    "        print(\"Epoch. %d: Cross-entropy: %.4f\" %(epoch, loss))\n",
    "\n",
    "torch.save([best_model, char_to_int], \"single-char.pth\")"
   ]
  },
  {
   "cell_type": "code",
   "execution_count": 29,
   "metadata": {},
   "outputs": [],
   "source": [
    "seq_length = 100\n",
    "start = np.random.randint(0, len(raw_text)-seq_length)\n",
    "prompt = raw_text[start:start+seq_length]"
   ]
  },
  {
   "cell_type": "code",
   "execution_count": 31,
   "metadata": {},
   "outputs": [
    {
     "name": "stdout",
     "output_type": "stream",
     "text": [
      "Prompt : \"hen,” thought she, “what would become of me? they’re dreadfully\n",
      "fond of beheading people here; the g\"\n",
      "hh\n",
      "ppppppppppppppppppppppppppppppppppppppppppppppppppppppppppppppppppppppppppppppppppppppppppppppppppppppppppppppppppppppppppppppppppppppppppppppppppppppppppppppppppppppppppppppppppppppppppppppppppppppppppppppppppppppppppppppppppppppppppppppppppppppppppppppppppppppppppppppppppppppppppppppppppppppppppppppppppppppppppppppppppppppppppppppppppppppppppppppppppppppppppppppppppppppppppppppppppppppppppppppppppppppppppppppppppppppppppppppppppppppppppppppppppppppppppppppppppppppppppppppppppppppppppppppppppppppppppppppppppppppppppppppppppppppppppppppppppppppppppppppppppppppppppppppppppppppppppppppppppppppppppppppppppppppppppppppppppppppppppppppppppppppppppppppppppppppppppppppppppppppppppppppppppppppppppppppppppppppppppppppppppppppppppppppppppppppppppppppppppppppppppppppppppppppppppppppppppppppppppppppppppppppppppppppppppppppppppppppppppppppppppppppppppppppppppppppppppppppppppppppppppppppppppppppppppppppppppppppppppppppppppppppppppppppppppppppppppppppppppppppppppppppppppppppppppppppppppppppppppppppppDone\n"
     ]
    }
   ],
   "source": [
    "best_model, char_to_int = torch.load(\"single-char.pth\")\n",
    "n_vocab = len(char_to_int)\n",
    "int_to_char = dict((i,c) for c, i in char_to_int.items())\n",
    "\n",
    "model.load_state_dict(best_model)\n",
    "pattern = [char_to_int[c] for c in prompt]\n",
    "\n",
    "model.eval()\n",
    "print('Prompt : \"%s\"' %prompt)\n",
    "print(\"hh\")\n",
    "with torch.no_grad():\n",
    "    for i in range(1000):\n",
    "        x = np.reshape(pattern, (1, len(pattern), 1))/ float(n_vocab)\n",
    "        x = torch.tensor(x, dtype=torch.float32)\n",
    "\n",
    "        prediction = model(x)\n",
    "        index = int(prediction.argmax())\n",
    "        result = int_to_char[index]\n",
    "        print(result, end = \"\")\n",
    "        pattern.append(index)\n",
    "        pattern = pattern[1:]\n",
    "\n",
    "\n",
    "print(\"Done\")\n"
   ]
  },
  {
   "cell_type": "code",
   "execution_count": 26,
   "metadata": {},
   "outputs": [
    {
     "data": {
      "text/plain": [
       "58230"
      ]
     },
     "execution_count": 26,
     "metadata": {},
     "output_type": "execute_result"
    }
   ],
   "source": [
    "start"
   ]
  },
  {
   "cell_type": "code",
   "execution_count": null,
   "metadata": {},
   "outputs": [],
   "source": []
  }
 ],
 "metadata": {
  "kernelspec": {
   "display_name": "Python 3.10 (tensorflow)",
   "language": "python",
   "name": "tensorflow"
  },
  "language_info": {
   "codemirror_mode": {
    "name": "ipython",
    "version": 3
   },
   "file_extension": ".py",
   "mimetype": "text/x-python",
   "name": "python",
   "nbconvert_exporter": "python",
   "pygments_lexer": "ipython3",
   "version": "3.9.6"
  },
  "orig_nbformat": 4
 },
 "nbformat": 4,
 "nbformat_minor": 2
}
